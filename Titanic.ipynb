{
 "cells": [
  {
   "cell_type": "code",
   "execution_count": 1,
   "metadata": {
    "collapsed": true
   },
   "outputs": [],
   "source": [
    "import pandas as pd\n",
    "from pandas import DataFrame, Series\n",
    "import numpy as np\n",
    "import matplotlib.pyplot as plt\n",
    "from sklearn import preprocessing\n",
    "%matplotlib inline\n",
    "train_data = pd.read_csv(u'E:\\\\资料书籍\\\\天池\\\\泰坦尼克号\\\\train.csv', sep=',')\n",
    "test_data = pd.read_csv(u'E:\\\\资料书籍\\\\天池\\\\泰坦尼克号\\\\test.csv', sep=',')"
   ]
  },
  {
   "cell_type": "markdown",
   "metadata": {},
   "source": [
    "# 首先进行数据预处理"
   ]
  },
  {
   "cell_type": "markdown",
   "metadata": {},
   "source": [
    "先合并数据，统一做处理，因为在别的地方已经进行过数据的分析了，所以这里就不一一阐述。\n",
    "\n",
    "主要步骤如下：\n",
    "- 首先提出名字里面的前缀，例如‘Mr’ ‘Mrs’，名字前缀能一定程度反映乘客的年龄(Mr. Master的不同，后者是小男孩)、性别、职位(Cap, Rev主教)等。"
   ]
  },
  {
   "cell_type": "code",
   "execution_count": 2,
   "metadata": {
    "collapsed": false
   },
   "outputs": [],
   "source": [
    "def combine_data(train_data, test_data):\n",
    "    combined_data = train_data.append(test_data)\n",
    "    combined_data.reset_index(inplace=True)\n",
    "    return combined_data"
   ]
  },
  {
   "cell_type": "code",
   "execution_count": 3,
   "metadata": {
    "collapsed": false
   },
   "outputs": [],
   "source": [
    "labels = train_data.Survived\n",
    "train_data.drop('Survived', axis=1, inplace=True)\n",
    "combined_data = combine_data(train_data, test_data)"
   ]
  },
  {
   "cell_type": "code",
   "execution_count": 4,
   "metadata": {
    "collapsed": true
   },
   "outputs": [],
   "source": [
    "def exract_name_prefix(data):\n",
    "    data['NamePrefix'] = data.Name.apply(lambda x: x.split(',')[1].strip().split('.')[0])"
   ]
  },
  {
   "cell_type": "code",
   "execution_count": 5,
   "metadata": {
    "collapsed": true
   },
   "outputs": [],
   "source": [
    "exract_name_prefix(combined_data)"
   ]
  },
  {
   "cell_type": "code",
   "execution_count": 6,
   "metadata": {
    "collapsed": false
   },
   "outputs": [],
   "source": [
    "combined_data.Fare.fillna(np.median(combined_data.Fare[combined_data.Fare.notnull()]), inplace=True)"
   ]
  },
  {
   "cell_type": "code",
   "execution_count": 7,
   "metadata": {
    "collapsed": false
   },
   "outputs": [],
   "source": [
    "def class_name_predix(x):\n",
    "    if x in ['Ms', 'Lady', 'the Countess', 'Mrs', 'Dona', 'Mme']:\n",
    "        return 'Mrs'\n",
    "    if x in ['Mlle', 'Miss']:\n",
    "        return 'Miss'\n",
    "    if x in ['Capt', 'Col',  'Major', 'Dr', 'Rev']:\n",
    "        return 'Officer'\n",
    "    if x in ['Don', 'Jonkheer']:\n",
    "        return 'Royalty'\n",
    "    if x in ['Sir', 'Mr']:\n",
    "        return 'Mr'\n",
    "    else:\n",
    "        return x"
   ]
  },
  {
   "cell_type": "code",
   "execution_count": 8,
   "metadata": {
    "collapsed": false
   },
   "outputs": [],
   "source": [
    "combined_data.NamePrefix = combined_data.NamePrefix.apply(class_name_predix)"
   ]
  },
  {
   "cell_type": "markdown",
   "metadata": {},
   "source": [
    "- 接下来增加Mother Family Singleton等字段"
   ]
  },
  {
   "cell_type": "code",
   "execution_count": 9,
   "metadata": {
    "collapsed": false
   },
   "outputs": [],
   "source": [
    "mrs = (combined_data.NamePrefix == 'Mrs').values\n",
    "parch = (combined_data.Parch >= 1).values\n",
    "combined_data['Mother'] = np.array(map(lambda x: int(x[0] and x[1]), zip(mrs, parch)))"
   ]
  },
  {
   "cell_type": "code",
   "execution_count": 10,
   "metadata": {
    "collapsed": false
   },
   "outputs": [],
   "source": [
    "# 计算家庭size\n",
    "family = combined_data.SibSp.values + combined_data.Parch.values\n",
    "combined_data['Family'] = family\n",
    "combined_data['Singleton'] = np.array(map(int, combined_data.Family == 0))"
   ]
  },
  {
   "cell_type": "code",
   "execution_count": 11,
   "metadata": {
    "collapsed": true
   },
   "outputs": [],
   "source": [
    "combined_data['Family_Size'] = combined_data.Family.apply(lambda x: 'Big' if x > 3 else 'Small')\n",
    "Family_Size_dummies = pd.get_dummies(combined_data['Family_Size'], prefix='Family_Size')\n",
    "combined_data = pd.concat([combined_data, Family_Size_dummies], axis=1)\n",
    "combined_data.drop('Family_Size', axis=1, inplace=True)"
   ]
  },
  {
   "cell_type": "code",
   "execution_count": 12,
   "metadata": {
    "collapsed": false
   },
   "outputs": [],
   "source": [
    "NamePrefix_dummies = pd.get_dummies(combined_data['NamePrefix'], prefix='NamePrefix')\n",
    "combined_data = pd.concat([combined_data, NamePrefix_dummies], axis=1)\n",
    "combined_data.drop('NamePrefix', axis=1, inplace=True)\n",
    "# le_NamePrefix = preprocessing.LabelEncoder().fit(combined_data.NamePrefix)\n",
    "# combined_data.NamePrefix = le_NamePrefix.transform(combined_data.NamePrefix)"
   ]
  },
  {
   "cell_type": "markdown",
   "metadata": {},
   "source": [
    "- 利用已知的数据来预测缺失的年龄，因为年龄缺失数目较多。"
   ]
  },
  {
   "cell_type": "code",
   "execution_count": 13,
   "metadata": {
    "collapsed": false
   },
   "outputs": [],
   "source": [
    "from sklearn.ensemble import RandomForestRegressor\n",
    "\n",
    "### 使用 RandomForestClassifier 填补缺失的年龄属性\n",
    "def set_missing_ages(df):\n",
    "\n",
    "    # 把已有的数值型特征取出来丢进Random Forest Regressor中\n",
    "    age_df = df[['Age','Fare', 'Parch', 'SibSp', 'Pclass', 'NamePrefix_Mrs', 'NamePrefix_Miss', 'Family_Size_Big','Family_Size_Small', \n",
    "                 'NamePrefix_Officer', 'NamePrefix_Royalty', 'NamePrefix_Mr', 'NamePrefix_Master', 'Mother', 'Singleton', 'Family']]\n",
    "\n",
    "    # 乘客分成已知年龄和未知年龄两部分\n",
    "    known_age = age_df[age_df.Age.notnull()].as_matrix()\n",
    "    unknown_age = age_df[age_df.Age.isnull()].as_matrix()\n",
    "\n",
    "    # y即目标年龄\n",
    "    y = known_age[:, 0]\n",
    "\n",
    "    # X即特征属性值\n",
    "    X = known_age[:, 1:]\n",
    "\n",
    "    # fit到RandomForestRegressor之中\n",
    "    rfr = RandomForestRegressor(random_state=0, n_estimators=2000, n_jobs=-1)\n",
    "    rfr.fit(X, y)\n",
    "\n",
    "    # 用得到的模型进行未知年龄结果预测\n",
    "    predictedAges = rfr.predict(unknown_age[:, 1::])\n",
    "\n",
    "    # 用得到的预测结果填补原缺失数据\n",
    "    df.loc[ (df.Age.isnull()), 'Age' ] = predictedAges "
   ]
  },
  {
   "cell_type": "code",
   "execution_count": 14,
   "metadata": {
    "collapsed": false
   },
   "outputs": [],
   "source": [
    "set_missing_ages(combined_data)"
   ]
  },
  {
   "cell_type": "markdown",
   "metadata": {},
   "source": [
    "- 增加Share_Ticket这一特征，意义是跟别人共享票务的说明不是一个人，按理来说应该得救几率大一点\n",
    "- Share_ticket_survived的意思是共享票的另外的人有没有存活。"
   ]
  },
  {
   "cell_type": "code",
   "execution_count": 15,
   "metadata": {
    "collapsed": false
   },
   "outputs": [],
   "source": [
    "from collections import Counter\n",
    "Ticket_Num_Dict = Counter(combined_data.Ticket)\n",
    "combined_data['Share_Ticket'] = combined_data.Ticket.apply(lambda x: 1 if Ticket_Num_Dict[x] >= 2 else 0)\n",
    "# 处理Ticket 这一组合特征\n",
    "\n",
    "# Ticket_dummies = pd.get_dummies(combined_data['Ticket'], prefix='Ticket')\n",
    "# combined_data = pd.concat([combined_data, Ticket_dummies], axis=1)\n",
    "# combined_data.drop('Ticket', axis=1, inplace=True)"
   ]
  },
  {
   "cell_type": "code",
   "execution_count": 16,
   "metadata": {
    "collapsed": true
   },
   "outputs": [],
   "source": [
    "train_data_bak = pd.read_csv(u'E:\\\\资料书籍\\\\天池\\\\泰坦尼克号\\\\train.csv', sep=',')\n",
    "share_ticket_survived = []\n",
    "for index, row in combined_data.iterrows():\n",
    "    if row.Share_Ticket == 1 and len(train_data_bak[train_data_bak.Ticket == row.Ticket].Survived == 1) > 0:\n",
    "        share_ticket_survived.append(1)\n",
    "    else:\n",
    "        share_ticket_survived.append(0)\n",
    "combined_data['Share_ticket_survived'] = np.array(share_ticket_survived)       "
   ]
  },
  {
   "cell_type": "code",
   "execution_count": 17,
   "metadata": {
    "collapsed": false
   },
   "outputs": [
    {
     "data": {
      "text/html": [
       "<div>\n",
       "<table border=\"1\" class=\"dataframe\">\n",
       "  <thead>\n",
       "    <tr style=\"text-align: right;\">\n",
       "      <th></th>\n",
       "      <th>index</th>\n",
       "      <th>Pclass</th>\n",
       "      <th>Sex</th>\n",
       "      <th>Age</th>\n",
       "      <th>SibSp</th>\n",
       "      <th>Parch</th>\n",
       "      <th>Ticket</th>\n",
       "      <th>Fare</th>\n",
       "      <th>Cabin</th>\n",
       "      <th>Mother</th>\n",
       "      <th>...</th>\n",
       "      <th>Family_Size_Big</th>\n",
       "      <th>Family_Size_Small</th>\n",
       "      <th>NamePrefix_Master</th>\n",
       "      <th>NamePrefix_Miss</th>\n",
       "      <th>NamePrefix_Mr</th>\n",
       "      <th>NamePrefix_Mrs</th>\n",
       "      <th>NamePrefix_Officer</th>\n",
       "      <th>NamePrefix_Royalty</th>\n",
       "      <th>Share_Ticket</th>\n",
       "      <th>Share_ticket_survived</th>\n",
       "    </tr>\n",
       "  </thead>\n",
       "  <tbody>\n",
       "    <tr>\n",
       "      <th>0</th>\n",
       "      <td>0</td>\n",
       "      <td>3</td>\n",
       "      <td>male</td>\n",
       "      <td>22.0</td>\n",
       "      <td>1</td>\n",
       "      <td>0</td>\n",
       "      <td>A/5 21171</td>\n",
       "      <td>7.2500</td>\n",
       "      <td>M0</td>\n",
       "      <td>0</td>\n",
       "      <td>...</td>\n",
       "      <td>0.0</td>\n",
       "      <td>1.0</td>\n",
       "      <td>0.0</td>\n",
       "      <td>0.0</td>\n",
       "      <td>1.0</td>\n",
       "      <td>0.0</td>\n",
       "      <td>0.0</td>\n",
       "      <td>0.0</td>\n",
       "      <td>0</td>\n",
       "      <td>0</td>\n",
       "    </tr>\n",
       "    <tr>\n",
       "      <th>1</th>\n",
       "      <td>1</td>\n",
       "      <td>1</td>\n",
       "      <td>female</td>\n",
       "      <td>38.0</td>\n",
       "      <td>1</td>\n",
       "      <td>0</td>\n",
       "      <td>PC 17599</td>\n",
       "      <td>71.2833</td>\n",
       "      <td>C85</td>\n",
       "      <td>0</td>\n",
       "      <td>...</td>\n",
       "      <td>0.0</td>\n",
       "      <td>1.0</td>\n",
       "      <td>0.0</td>\n",
       "      <td>0.0</td>\n",
       "      <td>0.0</td>\n",
       "      <td>1.0</td>\n",
       "      <td>0.0</td>\n",
       "      <td>0.0</td>\n",
       "      <td>1</td>\n",
       "      <td>1</td>\n",
       "    </tr>\n",
       "    <tr>\n",
       "      <th>2</th>\n",
       "      <td>2</td>\n",
       "      <td>3</td>\n",
       "      <td>female</td>\n",
       "      <td>26.0</td>\n",
       "      <td>0</td>\n",
       "      <td>0</td>\n",
       "      <td>STON/O2. 3101282</td>\n",
       "      <td>7.9250</td>\n",
       "      <td>M0</td>\n",
       "      <td>0</td>\n",
       "      <td>...</td>\n",
       "      <td>0.0</td>\n",
       "      <td>1.0</td>\n",
       "      <td>0.0</td>\n",
       "      <td>1.0</td>\n",
       "      <td>0.0</td>\n",
       "      <td>0.0</td>\n",
       "      <td>0.0</td>\n",
       "      <td>0.0</td>\n",
       "      <td>0</td>\n",
       "      <td>0</td>\n",
       "    </tr>\n",
       "    <tr>\n",
       "      <th>3</th>\n",
       "      <td>3</td>\n",
       "      <td>1</td>\n",
       "      <td>female</td>\n",
       "      <td>35.0</td>\n",
       "      <td>1</td>\n",
       "      <td>0</td>\n",
       "      <td>113803</td>\n",
       "      <td>53.1000</td>\n",
       "      <td>C123</td>\n",
       "      <td>0</td>\n",
       "      <td>...</td>\n",
       "      <td>0.0</td>\n",
       "      <td>1.0</td>\n",
       "      <td>0.0</td>\n",
       "      <td>0.0</td>\n",
       "      <td>0.0</td>\n",
       "      <td>1.0</td>\n",
       "      <td>0.0</td>\n",
       "      <td>0.0</td>\n",
       "      <td>1</td>\n",
       "      <td>1</td>\n",
       "    </tr>\n",
       "    <tr>\n",
       "      <th>4</th>\n",
       "      <td>4</td>\n",
       "      <td>3</td>\n",
       "      <td>male</td>\n",
       "      <td>35.0</td>\n",
       "      <td>0</td>\n",
       "      <td>0</td>\n",
       "      <td>373450</td>\n",
       "      <td>8.0500</td>\n",
       "      <td>M0</td>\n",
       "      <td>0</td>\n",
       "      <td>...</td>\n",
       "      <td>0.0</td>\n",
       "      <td>1.0</td>\n",
       "      <td>0.0</td>\n",
       "      <td>0.0</td>\n",
       "      <td>1.0</td>\n",
       "      <td>0.0</td>\n",
       "      <td>0.0</td>\n",
       "      <td>0.0</td>\n",
       "      <td>0</td>\n",
       "      <td>0</td>\n",
       "    </tr>\n",
       "  </tbody>\n",
       "</table>\n",
       "<p>5 rows × 22 columns</p>\n",
       "</div>"
      ],
      "text/plain": [
       "   index  Pclass     Sex   Age  SibSp  Parch            Ticket     Fare Cabin  \\\n",
       "0      0       3    male  22.0      1      0         A/5 21171   7.2500    M0   \n",
       "1      1       1  female  38.0      1      0          PC 17599  71.2833   C85   \n",
       "2      2       3  female  26.0      0      0  STON/O2. 3101282   7.9250    M0   \n",
       "3      3       1  female  35.0      1      0            113803  53.1000  C123   \n",
       "4      4       3    male  35.0      0      0            373450   8.0500    M0   \n",
       "\n",
       "   Mother          ...            Family_Size_Big  Family_Size_Small  \\\n",
       "0       0          ...                        0.0                1.0   \n",
       "1       0          ...                        0.0                1.0   \n",
       "2       0          ...                        0.0                1.0   \n",
       "3       0          ...                        0.0                1.0   \n",
       "4       0          ...                        0.0                1.0   \n",
       "\n",
       "   NamePrefix_Master  NamePrefix_Miss  NamePrefix_Mr  NamePrefix_Mrs  \\\n",
       "0                0.0              0.0            1.0             0.0   \n",
       "1                0.0              0.0            0.0             1.0   \n",
       "2                0.0              1.0            0.0             0.0   \n",
       "3                0.0              0.0            0.0             1.0   \n",
       "4                0.0              0.0            1.0             0.0   \n",
       "\n",
       "   NamePrefix_Officer  NamePrefix_Royalty  Share_Ticket  Share_ticket_survived  \n",
       "0                 0.0                 0.0             0                      0  \n",
       "1                 0.0                 0.0             1                      1  \n",
       "2                 0.0                 0.0             0                      0  \n",
       "3                 0.0                 0.0             1                      1  \n",
       "4                 0.0                 0.0             0                      0  \n",
       "\n",
       "[5 rows x 22 columns]"
      ]
     },
     "execution_count": 17,
     "metadata": {},
     "output_type": "execute_result"
    }
   ],
   "source": [
    "combined_data.Cabin.fillna('M0', inplace=True)\n",
    "combined_data.drop(['Embarked', 'Name', 'PassengerId'], axis=1, inplace=True)\n",
    "combined_data.head()"
   ]
  },
  {
   "cell_type": "code",
   "execution_count": 18,
   "metadata": {
    "collapsed": true
   },
   "outputs": [],
   "source": [
    "combined_data.drop(['Ticket'], axis=1, inplace=True)"
   ]
  },
  {
   "cell_type": "code",
   "execution_count": 21,
   "metadata": {
    "collapsed": false
   },
   "outputs": [],
   "source": [
    "def process_cabin_num(x):\n",
    "    x = x.split(' ')[0] # 这一步是为了处理有多个Cabin的情况 只取第一个\n",
    "    if len(x) <= 1:\n",
    "        return 0\n",
    "    else:\n",
    "        return float(x[1:])\n",
    "    \n",
    "def process_cabin(combined):\n",
    "    # mapping each Cabin value with the cabin letter\n",
    "    carbin_num = combined.Cabin.apply(process_cabin_num)\n",
    "    combined['Cabin_Numer'] = carbin_num\n",
    "    combined['Cabin'] = combined['Cabin'].map(lambda c : c[0])\n"
   ]
  },
  {
   "cell_type": "code",
   "execution_count": 22,
   "metadata": {
    "collapsed": true
   },
   "outputs": [],
   "source": [
    "process_cabin(combined_data)"
   ]
  },
  {
   "cell_type": "code",
   "execution_count": 23,
   "metadata": {
    "collapsed": false
   },
   "outputs": [],
   "source": [
    "# # dummy encoding ...\n",
    "cabin_dummies = pd.get_dummies(combined_data['Cabin'], prefix='Cabin')\n",
    "combined_data = pd.concat([combined_data, cabin_dummies], axis=1)\n",
    "combined_data.drop('Cabin', axis=1, inplace=True)\n",
    "# le_cabin = preprocessing.LabelEncoder().fit(combined_data.Cabin)\n",
    "# combined_data.Cabin = le_cabin.transform(combined_data.Cabin)"
   ]
  },
  {
   "cell_type": "code",
   "execution_count": 24,
   "metadata": {
    "collapsed": false
   },
   "outputs": [
    {
     "name": "stdout",
     "output_type": "stream",
     "text": [
      "<class 'pandas.core.frame.DataFrame'>\n",
      "RangeIndex: 1309 entries, 0 to 1308\n",
      "Data columns (total 30 columns):\n",
      "index                    1309 non-null int64\n",
      "Pclass                   1309 non-null int64\n",
      "Sex                      1309 non-null object\n",
      "Age                      1309 non-null float64\n",
      "SibSp                    1309 non-null int64\n",
      "Parch                    1309 non-null int64\n",
      "Fare                     1309 non-null float64\n",
      "Mother                   1309 non-null int32\n",
      "Family                   1309 non-null int64\n",
      "Singleton                1309 non-null int32\n",
      "Family_Size_Big          1309 non-null float64\n",
      "Family_Size_Small        1309 non-null float64\n",
      "NamePrefix_Master        1309 non-null float64\n",
      "NamePrefix_Miss          1309 non-null float64\n",
      "NamePrefix_Mr            1309 non-null float64\n",
      "NamePrefix_Mrs           1309 non-null float64\n",
      "NamePrefix_Officer       1309 non-null float64\n",
      "NamePrefix_Royalty       1309 non-null float64\n",
      "Share_Ticket             1309 non-null int64\n",
      "Share_ticket_survived    1309 non-null int32\n",
      "Cabin_Numer              1309 non-null float64\n",
      "Cabin_A                  1309 non-null float64\n",
      "Cabin_B                  1309 non-null float64\n",
      "Cabin_C                  1309 non-null float64\n",
      "Cabin_D                  1309 non-null float64\n",
      "Cabin_E                  1309 non-null float64\n",
      "Cabin_F                  1309 non-null float64\n",
      "Cabin_G                  1309 non-null float64\n",
      "Cabin_M                  1309 non-null float64\n",
      "Cabin_T                  1309 non-null float64\n",
      "dtypes: float64(20), int32(3), int64(6), object(1)\n",
      "memory usage: 291.5+ KB\n"
     ]
    }
   ],
   "source": [
    "combined_data.info()"
   ]
  },
  {
   "cell_type": "code",
   "execution_count": 25,
   "metadata": {
    "collapsed": false
   },
   "outputs": [],
   "source": [
    "# 处理性别数据\n",
    "combined_data.Sex = combined_data.Sex.map({'male':0, 'female': 1})"
   ]
  },
  {
   "cell_type": "code",
   "execution_count": 26,
   "metadata": {
    "collapsed": true
   },
   "outputs": [],
   "source": [
    "combined_data.drop('index', axis=1, inplace=True)"
   ]
  },
  {
   "cell_type": "code",
   "execution_count": 27,
   "metadata": {
    "collapsed": false
   },
   "outputs": [
    {
     "data": {
      "text/html": [
       "<div>\n",
       "<table border=\"1\" class=\"dataframe\">\n",
       "  <thead>\n",
       "    <tr style=\"text-align: right;\">\n",
       "      <th></th>\n",
       "      <th>Pclass</th>\n",
       "      <th>Sex</th>\n",
       "      <th>Age</th>\n",
       "      <th>SibSp</th>\n",
       "      <th>Parch</th>\n",
       "      <th>Fare</th>\n",
       "      <th>Mother</th>\n",
       "      <th>Family</th>\n",
       "      <th>Singleton</th>\n",
       "      <th>Family_Size_Big</th>\n",
       "      <th>...</th>\n",
       "      <th>Cabin_Numer</th>\n",
       "      <th>Cabin_A</th>\n",
       "      <th>Cabin_B</th>\n",
       "      <th>Cabin_C</th>\n",
       "      <th>Cabin_D</th>\n",
       "      <th>Cabin_E</th>\n",
       "      <th>Cabin_F</th>\n",
       "      <th>Cabin_G</th>\n",
       "      <th>Cabin_M</th>\n",
       "      <th>Cabin_T</th>\n",
       "    </tr>\n",
       "  </thead>\n",
       "  <tbody>\n",
       "    <tr>\n",
       "      <th>0</th>\n",
       "      <td>3</td>\n",
       "      <td>0</td>\n",
       "      <td>22.0</td>\n",
       "      <td>1</td>\n",
       "      <td>0</td>\n",
       "      <td>7.2500</td>\n",
       "      <td>0</td>\n",
       "      <td>1</td>\n",
       "      <td>0</td>\n",
       "      <td>0.0</td>\n",
       "      <td>...</td>\n",
       "      <td>0.0</td>\n",
       "      <td>0.0</td>\n",
       "      <td>0.0</td>\n",
       "      <td>0.0</td>\n",
       "      <td>0.0</td>\n",
       "      <td>0.0</td>\n",
       "      <td>0.0</td>\n",
       "      <td>0.0</td>\n",
       "      <td>1.0</td>\n",
       "      <td>0.0</td>\n",
       "    </tr>\n",
       "    <tr>\n",
       "      <th>1</th>\n",
       "      <td>1</td>\n",
       "      <td>1</td>\n",
       "      <td>38.0</td>\n",
       "      <td>1</td>\n",
       "      <td>0</td>\n",
       "      <td>71.2833</td>\n",
       "      <td>0</td>\n",
       "      <td>1</td>\n",
       "      <td>0</td>\n",
       "      <td>0.0</td>\n",
       "      <td>...</td>\n",
       "      <td>85.0</td>\n",
       "      <td>0.0</td>\n",
       "      <td>0.0</td>\n",
       "      <td>1.0</td>\n",
       "      <td>0.0</td>\n",
       "      <td>0.0</td>\n",
       "      <td>0.0</td>\n",
       "      <td>0.0</td>\n",
       "      <td>0.0</td>\n",
       "      <td>0.0</td>\n",
       "    </tr>\n",
       "    <tr>\n",
       "      <th>2</th>\n",
       "      <td>3</td>\n",
       "      <td>1</td>\n",
       "      <td>26.0</td>\n",
       "      <td>0</td>\n",
       "      <td>0</td>\n",
       "      <td>7.9250</td>\n",
       "      <td>0</td>\n",
       "      <td>0</td>\n",
       "      <td>1</td>\n",
       "      <td>0.0</td>\n",
       "      <td>...</td>\n",
       "      <td>0.0</td>\n",
       "      <td>0.0</td>\n",
       "      <td>0.0</td>\n",
       "      <td>0.0</td>\n",
       "      <td>0.0</td>\n",
       "      <td>0.0</td>\n",
       "      <td>0.0</td>\n",
       "      <td>0.0</td>\n",
       "      <td>1.0</td>\n",
       "      <td>0.0</td>\n",
       "    </tr>\n",
       "    <tr>\n",
       "      <th>3</th>\n",
       "      <td>1</td>\n",
       "      <td>1</td>\n",
       "      <td>35.0</td>\n",
       "      <td>1</td>\n",
       "      <td>0</td>\n",
       "      <td>53.1000</td>\n",
       "      <td>0</td>\n",
       "      <td>1</td>\n",
       "      <td>0</td>\n",
       "      <td>0.0</td>\n",
       "      <td>...</td>\n",
       "      <td>123.0</td>\n",
       "      <td>0.0</td>\n",
       "      <td>0.0</td>\n",
       "      <td>1.0</td>\n",
       "      <td>0.0</td>\n",
       "      <td>0.0</td>\n",
       "      <td>0.0</td>\n",
       "      <td>0.0</td>\n",
       "      <td>0.0</td>\n",
       "      <td>0.0</td>\n",
       "    </tr>\n",
       "    <tr>\n",
       "      <th>4</th>\n",
       "      <td>3</td>\n",
       "      <td>0</td>\n",
       "      <td>35.0</td>\n",
       "      <td>0</td>\n",
       "      <td>0</td>\n",
       "      <td>8.0500</td>\n",
       "      <td>0</td>\n",
       "      <td>0</td>\n",
       "      <td>1</td>\n",
       "      <td>0.0</td>\n",
       "      <td>...</td>\n",
       "      <td>0.0</td>\n",
       "      <td>0.0</td>\n",
       "      <td>0.0</td>\n",
       "      <td>0.0</td>\n",
       "      <td>0.0</td>\n",
       "      <td>0.0</td>\n",
       "      <td>0.0</td>\n",
       "      <td>0.0</td>\n",
       "      <td>1.0</td>\n",
       "      <td>0.0</td>\n",
       "    </tr>\n",
       "  </tbody>\n",
       "</table>\n",
       "<p>5 rows × 29 columns</p>\n",
       "</div>"
      ],
      "text/plain": [
       "   Pclass  Sex   Age  SibSp  Parch     Fare  Mother  Family  Singleton  \\\n",
       "0       3    0  22.0      1      0   7.2500       0       1          0   \n",
       "1       1    1  38.0      1      0  71.2833       0       1          0   \n",
       "2       3    1  26.0      0      0   7.9250       0       0          1   \n",
       "3       1    1  35.0      1      0  53.1000       0       1          0   \n",
       "4       3    0  35.0      0      0   8.0500       0       0          1   \n",
       "\n",
       "   Family_Size_Big   ...     Cabin_Numer  Cabin_A  Cabin_B  Cabin_C  Cabin_D  \\\n",
       "0              0.0   ...             0.0      0.0      0.0      0.0      0.0   \n",
       "1              0.0   ...            85.0      0.0      0.0      1.0      0.0   \n",
       "2              0.0   ...             0.0      0.0      0.0      0.0      0.0   \n",
       "3              0.0   ...           123.0      0.0      0.0      1.0      0.0   \n",
       "4              0.0   ...             0.0      0.0      0.0      0.0      0.0   \n",
       "\n",
       "   Cabin_E  Cabin_F  Cabin_G  Cabin_M  Cabin_T  \n",
       "0      0.0      0.0      0.0      1.0      0.0  \n",
       "1      0.0      0.0      0.0      0.0      0.0  \n",
       "2      0.0      0.0      0.0      1.0      0.0  \n",
       "3      0.0      0.0      0.0      0.0      0.0  \n",
       "4      0.0      0.0      0.0      1.0      0.0  \n",
       "\n",
       "[5 rows x 29 columns]"
      ]
     },
     "execution_count": 27,
     "metadata": {},
     "output_type": "execute_result"
    }
   ],
   "source": [
    "combined_data.head()"
   ]
  },
  {
   "cell_type": "markdown",
   "metadata": {},
   "source": [
    "- 将两个重要特征PCLASS 和Sex结合"
   ]
  },
  {
   "cell_type": "code",
   "execution_count": 28,
   "metadata": {
    "collapsed": false
   },
   "outputs": [],
   "source": [
    "# 建造新特征PCLASS 与 Sex的结合\n",
    "def join_sex_pclass(sex, pclass):\n",
    "    sex_dict = {0: 'Male', 1: 'Female'}\n",
    "    pclass_dict = {1: 'High', 2: 'Mid', 3: 'Low'}\n",
    "    return '{}_{}'.format(sex_dict[sex], pclass_dict[pclass])\n",
    "def create_sex_pclass_feat(data):\n",
    "    new_feat = []\n",
    "    for index, row in data.iterrows():   # 获取每行的index、row\n",
    "        new_feat.append(join_sex_pclass(row.Sex, row.Pclass))\n",
    "    return pd.Series(np.array(new_feat))"
   ]
  },
  {
   "cell_type": "code",
   "execution_count": 29,
   "metadata": {
    "collapsed": true
   },
   "outputs": [],
   "source": [
    "combined_data['Sex_Pclass'] = create_sex_pclass_feat(combined_data)"
   ]
  },
  {
   "cell_type": "code",
   "execution_count": 30,
   "metadata": {
    "collapsed": true
   },
   "outputs": [],
   "source": [
    "# # 处理Sex_Pclass 这一组合特征\n",
    "\n",
    "sex_pclass_dummies = pd.get_dummies(combined_data['Sex_Pclass'], prefix='Sex_Pclass')\n",
    "combined_data = pd.concat([combined_data, sex_pclass_dummies], axis=1)\n",
    "combined_data.drop('Sex_Pclass', axis=1, inplace=True)\n",
    "# le_sp = preprocessing.LabelEncoder().fit(combined_data.Sex_Pclass)\n",
    "# combined_data.Sex_Pclass = le_sp.transform(combined_data.Sex_Pclass)"
   ]
  },
  {
   "cell_type": "code",
   "execution_count": 31,
   "metadata": {
    "collapsed": true
   },
   "outputs": [],
   "source": [
    "# normalized_Family(combined_data)\n",
    "combined_data['Child'] = combined_data.Age.apply(lambda x: 1 if x <12 else 0)"
   ]
  },
  {
   "cell_type": "code",
   "execution_count": 65,
   "metadata": {
    "collapsed": false
   },
   "outputs": [
    {
     "data": {
      "text/html": [
       "<div>\n",
       "<table border=\"1\" class=\"dataframe\">\n",
       "  <thead>\n",
       "    <tr style=\"text-align: right;\">\n",
       "      <th></th>\n",
       "      <th>Pclass</th>\n",
       "      <th>Sex</th>\n",
       "      <th>Age</th>\n",
       "      <th>SibSp</th>\n",
       "      <th>Parch</th>\n",
       "      <th>Fare</th>\n",
       "      <th>Mother</th>\n",
       "      <th>Family</th>\n",
       "      <th>Singleton</th>\n",
       "      <th>Family_Size_Big</th>\n",
       "      <th>...</th>\n",
       "      <th>Cabin_G</th>\n",
       "      <th>Cabin_M</th>\n",
       "      <th>Cabin_T</th>\n",
       "      <th>Sex_Pclass_Female_High</th>\n",
       "      <th>Sex_Pclass_Female_Low</th>\n",
       "      <th>Sex_Pclass_Female_Mid</th>\n",
       "      <th>Sex_Pclass_Male_High</th>\n",
       "      <th>Sex_Pclass_Male_Low</th>\n",
       "      <th>Sex_Pclass_Male_Mid</th>\n",
       "      <th>Child</th>\n",
       "    </tr>\n",
       "  </thead>\n",
       "  <tbody>\n",
       "    <tr>\n",
       "      <th>0</th>\n",
       "      <td>3</td>\n",
       "      <td>0</td>\n",
       "      <td>-0.577952</td>\n",
       "      <td>1</td>\n",
       "      <td>0</td>\n",
       "      <td>-0.503291</td>\n",
       "      <td>0</td>\n",
       "      <td>1</td>\n",
       "      <td>0</td>\n",
       "      <td>0.0</td>\n",
       "      <td>...</td>\n",
       "      <td>0.0</td>\n",
       "      <td>1.0</td>\n",
       "      <td>0.0</td>\n",
       "      <td>0.0</td>\n",
       "      <td>0.0</td>\n",
       "      <td>0.0</td>\n",
       "      <td>0.0</td>\n",
       "      <td>1.0</td>\n",
       "      <td>0.0</td>\n",
       "      <td>0</td>\n",
       "    </tr>\n",
       "    <tr>\n",
       "      <th>1</th>\n",
       "      <td>1</td>\n",
       "      <td>1</td>\n",
       "      <td>0.599216</td>\n",
       "      <td>1</td>\n",
       "      <td>0</td>\n",
       "      <td>0.734744</td>\n",
       "      <td>0</td>\n",
       "      <td>1</td>\n",
       "      <td>0</td>\n",
       "      <td>0.0</td>\n",
       "      <td>...</td>\n",
       "      <td>0.0</td>\n",
       "      <td>0.0</td>\n",
       "      <td>0.0</td>\n",
       "      <td>1.0</td>\n",
       "      <td>0.0</td>\n",
       "      <td>0.0</td>\n",
       "      <td>0.0</td>\n",
       "      <td>0.0</td>\n",
       "      <td>0.0</td>\n",
       "      <td>0</td>\n",
       "    </tr>\n",
       "    <tr>\n",
       "      <th>2</th>\n",
       "      <td>3</td>\n",
       "      <td>1</td>\n",
       "      <td>-0.283660</td>\n",
       "      <td>0</td>\n",
       "      <td>0</td>\n",
       "      <td>-0.490240</td>\n",
       "      <td>0</td>\n",
       "      <td>0</td>\n",
       "      <td>1</td>\n",
       "      <td>0.0</td>\n",
       "      <td>...</td>\n",
       "      <td>0.0</td>\n",
       "      <td>1.0</td>\n",
       "      <td>0.0</td>\n",
       "      <td>0.0</td>\n",
       "      <td>1.0</td>\n",
       "      <td>0.0</td>\n",
       "      <td>0.0</td>\n",
       "      <td>0.0</td>\n",
       "      <td>0.0</td>\n",
       "      <td>0</td>\n",
       "    </tr>\n",
       "    <tr>\n",
       "      <th>3</th>\n",
       "      <td>1</td>\n",
       "      <td>1</td>\n",
       "      <td>0.378497</td>\n",
       "      <td>1</td>\n",
       "      <td>0</td>\n",
       "      <td>0.383183</td>\n",
       "      <td>0</td>\n",
       "      <td>1</td>\n",
       "      <td>0</td>\n",
       "      <td>0.0</td>\n",
       "      <td>...</td>\n",
       "      <td>0.0</td>\n",
       "      <td>0.0</td>\n",
       "      <td>0.0</td>\n",
       "      <td>1.0</td>\n",
       "      <td>0.0</td>\n",
       "      <td>0.0</td>\n",
       "      <td>0.0</td>\n",
       "      <td>0.0</td>\n",
       "      <td>0.0</td>\n",
       "      <td>0</td>\n",
       "    </tr>\n",
       "    <tr>\n",
       "      <th>4</th>\n",
       "      <td>3</td>\n",
       "      <td>0</td>\n",
       "      <td>0.378497</td>\n",
       "      <td>0</td>\n",
       "      <td>0</td>\n",
       "      <td>-0.487824</td>\n",
       "      <td>0</td>\n",
       "      <td>0</td>\n",
       "      <td>1</td>\n",
       "      <td>0.0</td>\n",
       "      <td>...</td>\n",
       "      <td>0.0</td>\n",
       "      <td>1.0</td>\n",
       "      <td>0.0</td>\n",
       "      <td>0.0</td>\n",
       "      <td>0.0</td>\n",
       "      <td>0.0</td>\n",
       "      <td>0.0</td>\n",
       "      <td>1.0</td>\n",
       "      <td>0.0</td>\n",
       "      <td>0</td>\n",
       "    </tr>\n",
       "  </tbody>\n",
       "</table>\n",
       "<p>5 rows × 36 columns</p>\n",
       "</div>"
      ],
      "text/plain": [
       "   Pclass  Sex       Age  SibSp  Parch      Fare  Mother  Family  Singleton  \\\n",
       "0       3    0 -0.577952      1      0 -0.503291       0       1          0   \n",
       "1       1    1  0.599216      1      0  0.734744       0       1          0   \n",
       "2       3    1 -0.283660      0      0 -0.490240       0       0          1   \n",
       "3       1    1  0.378497      1      0  0.383183       0       1          0   \n",
       "4       3    0  0.378497      0      0 -0.487824       0       0          1   \n",
       "\n",
       "   Family_Size_Big  ...    Cabin_G  Cabin_M  Cabin_T  Sex_Pclass_Female_High  \\\n",
       "0              0.0  ...        0.0      1.0      0.0                     0.0   \n",
       "1              0.0  ...        0.0      0.0      0.0                     1.0   \n",
       "2              0.0  ...        0.0      1.0      0.0                     0.0   \n",
       "3              0.0  ...        0.0      0.0      0.0                     1.0   \n",
       "4              0.0  ...        0.0      1.0      0.0                     0.0   \n",
       "\n",
       "   Sex_Pclass_Female_Low  Sex_Pclass_Female_Mid  Sex_Pclass_Male_High  \\\n",
       "0                    0.0                    0.0                   0.0   \n",
       "1                    0.0                    0.0                   0.0   \n",
       "2                    1.0                    0.0                   0.0   \n",
       "3                    0.0                    0.0                   0.0   \n",
       "4                    0.0                    0.0                   0.0   \n",
       "\n",
       "   Sex_Pclass_Male_Low  Sex_Pclass_Male_Mid  Child  \n",
       "0                  1.0                  0.0      0  \n",
       "1                  0.0                  0.0      0  \n",
       "2                  0.0                  0.0      0  \n",
       "3                  0.0                  0.0      0  \n",
       "4                  1.0                  0.0      0  \n",
       "\n",
       "[5 rows x 36 columns]"
      ]
     },
     "execution_count": 65,
     "metadata": {},
     "output_type": "execute_result"
    }
   ],
   "source": [
    "combined_data.head()"
   ]
  },
  {
   "cell_type": "markdown",
   "metadata": {},
   "source": [
    "- 接下来分析数据"
   ]
  },
  {
   "cell_type": "code",
   "execution_count": 131,
   "metadata": {
    "collapsed": false
   },
   "outputs": [],
   "source": [
    "train_data = combined_data.loc[:890]\n",
    "test_data = combined_data.loc[891:]"
   ]
  },
  {
   "cell_type": "code",
   "execution_count": 145,
   "metadata": {
    "collapsed": false
   },
   "outputs": [
    {
     "data": {
      "text/plain": [
       "(891L, 11L)"
      ]
     },
     "execution_count": 145,
     "metadata": {},
     "output_type": "execute_result"
    }
   ],
   "source": [
    "from sklearn.ensemble import GradientBoostingClassifier\n",
    "from sklearn.feature_selection import SelectFromModel\n",
    "clf = GradientBoostingClassifier(n_estimators=50, max_features='sqrt')\n",
    "clf = clf.fit(train_data, labels)\n",
    "\n",
    "model = SelectFromModel(clf, prefit=True)\n",
    "train_reduced = model.transform(train_data)\n",
    "test_reduced =  model.transform(test_data)\n",
    "train_reduced.shape"
   ]
  },
  {
   "cell_type": "markdown",
   "metadata": {},
   "source": [
    "# 接下来运用stacking集成5个模型进行预测"
   ]
  },
  {
   "cell_type": "code",
   "execution_count": 146,
   "metadata": {
    "collapsed": false
   },
   "outputs": [],
   "source": [
    "from sklearn.pipeline import make_pipeline\n",
    "from sklearn.ensemble import RandomForestClassifier\n",
    "from sklearn.feature_selection import SelectKBest\n",
    "from sklearn.cross_validation import StratifiedKFold\n",
    "from sklearn.grid_search import GridSearchCV\n",
    "from sklearn.ensemble.gradient_boosting import GradientBoostingClassifier\n",
    "from sklearn.cross_validation import cross_val_score\n",
    "from sklearn.metrics import accuracy_score"
   ]
  },
  {
   "cell_type": "code",
   "execution_count": 147,
   "metadata": {
    "collapsed": false
   },
   "outputs": [],
   "source": [
    "from sklearn.ensemble import RandomForestClassifier, AdaBoostClassifier, GradientBoostingClassifier, ExtraTreesClassifier\n",
    "from sklearn.svm import SVC\n",
    "from sklearn.cross_validation import KFold"
   ]
  },
  {
   "cell_type": "code",
   "execution_count": 148,
   "metadata": {
    "collapsed": false
   },
   "outputs": [],
   "source": [
    "# Some useful parameters which will come in handy later on\n",
    "ntrain = train_reduced.shape[0]\n",
    "ntest = test_reduced.shape[0]\n",
    "SEED = 0 # for reproducibility\n",
    "NFOLDS = 5 # set folds for out-of-fold prediction\n",
    "kf = KFold(ntrain, n_folds= NFOLDS, random_state=SEED)\n",
    "\n",
    "# Class to extend the Sklearn classifier\n",
    "class SklearnHelper(object):\n",
    "    def __init__(self, clf, seed=0, params=None):\n",
    "        params['random_state'] = seed\n",
    "        self.clf = clf(**params)\n",
    "\n",
    "    def train(self, x_train, y_train):\n",
    "        self.clf.fit(x_train, y_train)\n",
    "\n",
    "    def predict(self, x):\n",
    "        return self.clf.predict(x)\n",
    "    \n",
    "    def fit(self,x,y):\n",
    "        return self.clf.fit(x,y)\n",
    "    \n",
    "    def feature_importances(self,x,y):\n",
    "        return (self.clf.fit(x,y).feature_importances_)"
   ]
  },
  {
   "cell_type": "code",
   "execution_count": 149,
   "metadata": {
    "collapsed": false
   },
   "outputs": [],
   "source": [
    "def get_oof(clf, x_train, y_train, x_test):\n",
    "    oof_train = np.zeros((ntrain,))\n",
    "    oof_test = np.zeros((ntest,))\n",
    "    oof_test_skf = np.empty((NFOLDS, ntest))\n",
    "\n",
    "    for i, (train_index, test_index) in enumerate(kf):\n",
    "        x_tr = x_train[train_index]\n",
    "        y_tr = y_train[train_index]\n",
    "        x_te = x_train[test_index]\n",
    "\n",
    "        clf.train(x_tr, y_tr)\n",
    "\n",
    "        oof_train[test_index] = clf.predict(x_te)\n",
    "        oof_test_skf[i, :] = clf.predict(x_test)\n",
    "\n",
    "    oof_test[:] = oof_test_skf.mean(axis=0)\n",
    "    return oof_train.reshape(-1, 1), oof_test.reshape(-1, 1)"
   ]
  },
  {
   "cell_type": "code",
   "execution_count": 150,
   "metadata": {
    "collapsed": true
   },
   "outputs": [],
   "source": [
    "# Put in our parameters for said classifiers\n",
    "# Random Forest parameters\n",
    "rf_params = {\n",
    "    'n_jobs': -1,\n",
    "    'n_estimators': 500,\n",
    "     'warm_start': True, \n",
    "     #'max_features': 0.2,\n",
    "    'max_depth': 6,\n",
    "    'min_samples_leaf': 2,\n",
    "    'max_features' : 'sqrt',\n",
    "    'verbose': 0\n",
    "}\n",
    "\n",
    "# Extra Trees Parameters\n",
    "et_params = {\n",
    "    'n_jobs': -1,\n",
    "    'n_estimators':500,\n",
    "    #'max_features': 0.5,\n",
    "    'max_depth': 8,\n",
    "    'min_samples_leaf': 2,\n",
    "    'verbose': 0\n",
    "}\n",
    "\n",
    "# AdaBoost parameters\n",
    "ada_params = {\n",
    "    'n_estimators': 500,\n",
    "    'learning_rate' : 0.75\n",
    "}\n",
    "\n",
    "# Gradient Boosting parameters\n",
    "gb_params = {\n",
    "    'n_estimators': 500,\n",
    "     #'max_features': 0.2,\n",
    "    'max_depth': 5,\n",
    "    'min_samples_leaf': 2,\n",
    "    'verbose': 0\n",
    "}\n",
    "\n",
    "# Support Vector Classifier parameters \n",
    "svc_params = {\n",
    "    'kernel' : 'linear',\n",
    "    'C' : 0.025\n",
    "    }"
   ]
  },
  {
   "cell_type": "code",
   "execution_count": 151,
   "metadata": {
    "collapsed": true
   },
   "outputs": [],
   "source": [
    "rf = SklearnHelper(clf=RandomForestClassifier, seed=SEED, params=rf_params)\n",
    "et = SklearnHelper(clf=ExtraTreesClassifier, seed=SEED, params=et_params)\n",
    "ada = SklearnHelper(clf=AdaBoostClassifier, seed=SEED, params=ada_params)\n",
    "gb = SklearnHelper(clf=GradientBoostingClassifier, seed=SEED, params=gb_params)\n",
    "svc = SklearnHelper(clf=SVC, seed=SEED, params=svc_params)"
   ]
  },
  {
   "cell_type": "code",
   "execution_count": 153,
   "metadata": {
    "collapsed": false
   },
   "outputs": [],
   "source": [
    "x_train = train_reduced # Creates an array of the train data\n",
    "x_test = test_reduced # Creats an array of the test data"
   ]
  },
  {
   "cell_type": "code",
   "execution_count": 154,
   "metadata": {
    "collapsed": false
   },
   "outputs": [],
   "source": [
    "y_train = labels.ravel()"
   ]
  },
  {
   "cell_type": "code",
   "execution_count": 155,
   "metadata": {
    "collapsed": false
   },
   "outputs": [
    {
     "name": "stdout",
     "output_type": "stream",
     "text": [
      "Training is complete\n"
     ]
    }
   ],
   "source": [
    "# Create our OOF train and test predictions. These base results will be used as new features\n",
    "et_oof_train, et_oof_test = get_oof(et, x_train, y_train, x_test) # Extra Trees\n",
    "rf_oof_train, rf_oof_test = get_oof(rf,x_train, y_train, x_test) # Random Forest\n",
    "ada_oof_train, ada_oof_test = get_oof(ada, x_train, y_train, x_test) # AdaBoost \n",
    "gb_oof_train, gb_oof_test = get_oof(gb,x_train, y_train, x_test) # Gradient Boost\n",
    "svc_oof_train, svc_oof_test = get_oof(svc,x_train, y_train, x_test) # Support Vector Classifier\n",
    "\n",
    "print(\"Training is complete\")"
   ]
  },
  {
   "cell_type": "code",
   "execution_count": 156,
   "metadata": {
    "collapsed": false
   },
   "outputs": [],
   "source": [
    "rf_features = rf.feature_importances(x_train,y_train)\n",
    "et_features = et.feature_importances(x_train, y_train)\n",
    "ada_features = ada.feature_importances(x_train, y_train)\n",
    "gb_features = gb.feature_importances(x_train,y_train)"
   ]
  },
  {
   "cell_type": "code",
   "execution_count": 157,
   "metadata": {
    "collapsed": false
   },
   "outputs": [],
   "source": [
    "# rf_features = ' 0.10117536  0.19737276  0.0500577   0.01758493  0.14145643  0.06167856\\\n",
    "#   0.09210271  0.06871121  0.23547256  0.00354938  0.01311831  0.01772008'\n",
    "# et_features = ' 0.10295689  0.31295519  0.03997998  0.02517426  0.06224174  0.05172749\\\n",
    "#   0.06910707  0.04409819  0.22901159  0.00888276  0.01756171  0.03630312'\n",
    "# ada_features = ' 0.01   0.01   0.026  0.     0.822  0.018  0.028  0.034  0.042  0.006\\\n",
    "#   0.004  0. '\n",
    "# gb_features = '0.01068577  0.0241477   0.12169894  0.01267324  0.59006613  0.05527318\\\n",
    "#   0.04954347  0.05730464  0.04142735  0.01500765  0.02054994  0.00162199'"
   ]
  },
  {
   "cell_type": "code",
   "execution_count": 158,
   "metadata": {
    "collapsed": false
   },
   "outputs": [],
   "source": [
    "# rf_features = map(float, rf_features.strip().split())\n",
    "# et_features = map(float, et_features.strip().split())\n",
    "# ada_features = map(float, ada_features.strip().split())\n",
    "# gb_features = map(float, gb_features.strip().split())"
   ]
  },
  {
   "cell_type": "code",
   "execution_count": 104,
   "metadata": {
    "collapsed": false
   },
   "outputs": [
    {
     "name": "stdout",
     "output_type": "stream",
     "text": [
      "36\n"
     ]
    }
   ],
   "source": [
    "cols = train_data.columns.values\n",
    "print len(cols)\n",
    "# Create a dataframe with features\n",
    "feature_dataframe = pd.DataFrame( {'features': cols,\n",
    "     'Random Forest feature importances': rf_features,\n",
    "     'Extra Trees  feature importances': et_features,\n",
    "      'AdaBoost feature importances': ada_features,\n",
    "    'Gradient Boost feature importances': gb_features\n",
    "    })"
   ]
  },
  {
   "cell_type": "markdown",
   "metadata": {},
   "source": [
    "#### 利用plotly库显示各个特征的重要性和平均下来的重要性\n",
    "\n",
    "- plotly是一个js库，提供python接口，交互很棒，语法很长。。。文档一般般。。。"
   ]
  },
  {
   "cell_type": "code",
   "execution_count": 105,
   "metadata": {
    "collapsed": false
   },
   "outputs": [
    {
     "data": {
      "text/html": [
       "<script>requirejs.config({paths: { 'plotly': ['https://cdn.plot.ly/plotly-latest.min']},});if(!window.Plotly) {{require(['plotly'],function(plotly) {window.Plotly=plotly;});}}</script>"
      ],
      "text/vnd.plotly.v1+html": [
       "<script>requirejs.config({paths: { 'plotly': ['https://cdn.plot.ly/plotly-latest.min']},});if(!window.Plotly) {{require(['plotly'],function(plotly) {window.Plotly=plotly;});}}</script>"
      ]
     },
     "metadata": {},
     "output_type": "display_data"
    },
    {
     "data": {
      "application/vnd.plotly.v1+json": {
       "data": [
        {
         "marker": {
          "color": [
           0.0586875357033403,
           0.15011371862345277,
           0.05881819206693764,
           0.01615313532695342,
           0.010803757086279824,
           0.08282228149501099,
           0.0026922334367594307,
           0.030476078428431717,
           0.007056910276517915,
           0.017488010536893445,
           0.01806369041872286,
           0.011034458334337287,
           0.02059501335541847,
           0.15487435958803725,
           0.0264307924677308,
           0.006062369557701528,
           0,
           0.009633595552877848,
           0.011053882859128651,
           0.043567408418015936,
           0.0014398187055231248,
           0.003538384571473533,
           0.0033813311443991294,
           0.0017034167341722353,
           0.00675021383358609,
           0.0005081994463114086,
           0.0005270450283139283,
           0.024600902833927296,
           0,
           0.065987516187774,
           0.023571196065430695,
           0.050520525352217766,
           0.014046131832891455,
           0.04450059817364631,
           0.011985614361808667,
           0.010511682195976377
          ],
          "colorscale": "Portland",
          "showscale": true,
          "size": 25,
          "sizemode": "diameter",
          "sizeref": 1
         },
         "mode": "markers",
         "text": [
          "Pclass",
          "Sex",
          "Age",
          "SibSp",
          "Parch",
          "Fare",
          "Mother",
          "Family",
          "Singleton",
          "Family_Size_Big",
          "Family_Size_Small",
          "NamePrefix_Master",
          "NamePrefix_Miss",
          "NamePrefix_Mr",
          "NamePrefix_Mrs",
          "NamePrefix_Officer",
          "NamePrefix_Royalty",
          "Share_Ticket",
          "Share_ticket_survived",
          "Cabin_Numer",
          "Cabin_A",
          "Cabin_B",
          "Cabin_C",
          "Cabin_D",
          "Cabin_E",
          "Cabin_F",
          "Cabin_G",
          "Cabin_M",
          "Cabin_T",
          "Sex_Pclass_Female_High",
          "Sex_Pclass_Female_Low",
          "Sex_Pclass_Female_Mid",
          "Sex_Pclass_Male_High",
          "Sex_Pclass_Male_Low",
          "Sex_Pclass_Male_Mid",
          "Child"
         ],
         "type": "scatter",
         "x": [
          "Pclass",
          "Sex",
          "Age",
          "SibSp",
          "Parch",
          "Fare",
          "Mother",
          "Family",
          "Singleton",
          "Family_Size_Big",
          "Family_Size_Small",
          "NamePrefix_Master",
          "NamePrefix_Miss",
          "NamePrefix_Mr",
          "NamePrefix_Mrs",
          "NamePrefix_Officer",
          "NamePrefix_Royalty",
          "Share_Ticket",
          "Share_ticket_survived",
          "Cabin_Numer",
          "Cabin_A",
          "Cabin_B",
          "Cabin_C",
          "Cabin_D",
          "Cabin_E",
          "Cabin_F",
          "Cabin_G",
          "Cabin_M",
          "Cabin_T",
          "Sex_Pclass_Female_High",
          "Sex_Pclass_Female_Low",
          "Sex_Pclass_Female_Mid",
          "Sex_Pclass_Male_High",
          "Sex_Pclass_Male_Low",
          "Sex_Pclass_Male_Mid",
          "Child"
         ],
         "y": [
          0.0586875357033403,
          0.15011371862345277,
          0.05881819206693764,
          0.01615313532695342,
          0.010803757086279824,
          0.08282228149501099,
          0.0026922334367594307,
          0.030476078428431717,
          0.007056910276517915,
          0.017488010536893445,
          0.01806369041872286,
          0.011034458334337287,
          0.02059501335541847,
          0.15487435958803725,
          0.0264307924677308,
          0.006062369557701528,
          0,
          0.009633595552877848,
          0.011053882859128651,
          0.043567408418015936,
          0.0014398187055231248,
          0.003538384571473533,
          0.0033813311443991294,
          0.0017034167341722353,
          0.00675021383358609,
          0.0005081994463114086,
          0.0005270450283139283,
          0.024600902833927296,
          0,
          0.065987516187774,
          0.023571196065430695,
          0.050520525352217766,
          0.014046131832891455,
          0.04450059817364631,
          0.011985614361808667,
          0.010511682195976377
         ]
        }
       ],
       "layout": {
        "autosize": true,
        "hovermode": "closest",
        "showlegend": false,
        "title": "Random Forest Feature Importance",
        "yaxis": {
         "gridwidth": 2,
         "ticklen": 5,
         "title": "Feature Importance"
        }
       }
      },
      "text/html": [
       "<div id=\"1cf0b7fa-9695-43a7-9922-eb46454e7f49\" style=\"height: 525px; width: 100%;\" class=\"plotly-graph-div\"></div><script type=\"text/javascript\">require([\"plotly\"], function(Plotly) { window.PLOTLYENV=window.PLOTLYENV || {};window.PLOTLYENV.BASE_URL=\"https://plot.ly\";Plotly.newPlot(\"1cf0b7fa-9695-43a7-9922-eb46454e7f49\", [{\"text\": [\"Pclass\", \"Sex\", \"Age\", \"SibSp\", \"Parch\", \"Fare\", \"Mother\", \"Family\", \"Singleton\", \"Family_Size_Big\", \"Family_Size_Small\", \"NamePrefix_Master\", \"NamePrefix_Miss\", \"NamePrefix_Mr\", \"NamePrefix_Mrs\", \"NamePrefix_Officer\", \"NamePrefix_Royalty\", \"Share_Ticket\", \"Share_ticket_survived\", \"Cabin_Numer\", \"Cabin_A\", \"Cabin_B\", \"Cabin_C\", \"Cabin_D\", \"Cabin_E\", \"Cabin_F\", \"Cabin_G\", \"Cabin_M\", \"Cabin_T\", \"Sex_Pclass_Female_High\", \"Sex_Pclass_Female_Low\", \"Sex_Pclass_Female_Mid\", \"Sex_Pclass_Male_High\", \"Sex_Pclass_Male_Low\", \"Sex_Pclass_Male_Mid\", \"Child\"], \"marker\": {\"sizeref\": 1, \"colorscale\": \"Portland\", \"color\": [0.0586875357033403, 0.15011371862345277, 0.05881819206693764, 0.01615313532695342, 0.010803757086279824, 0.08282228149501099, 0.0026922334367594307, 0.030476078428431717, 0.007056910276517915, 0.017488010536893445, 0.01806369041872286, 0.011034458334337287, 0.02059501335541847, 0.15487435958803725, 0.0264307924677308, 0.006062369557701528, 0.0, 0.009633595552877848, 0.011053882859128651, 0.043567408418015936, 0.0014398187055231248, 0.003538384571473533, 0.0033813311443991294, 0.0017034167341722353, 0.00675021383358609, 0.0005081994463114086, 0.0005270450283139283, 0.024600902833927296, 0.0, 0.065987516187774, 0.023571196065430695, 0.050520525352217766, 0.014046131832891455, 0.04450059817364631, 0.011985614361808667, 0.010511682195976377], \"sizemode\": \"diameter\", \"showscale\": true, \"size\": 25}, \"mode\": \"markers\", \"y\": [0.0586875357033403, 0.15011371862345277, 0.05881819206693764, 0.01615313532695342, 0.010803757086279824, 0.08282228149501099, 0.0026922334367594307, 0.030476078428431717, 0.007056910276517915, 0.017488010536893445, 0.01806369041872286, 0.011034458334337287, 0.02059501335541847, 0.15487435958803725, 0.0264307924677308, 0.006062369557701528, 0.0, 0.009633595552877848, 0.011053882859128651, 0.043567408418015936, 0.0014398187055231248, 0.003538384571473533, 0.0033813311443991294, 0.0017034167341722353, 0.00675021383358609, 0.0005081994463114086, 0.0005270450283139283, 0.024600902833927296, 0.0, 0.065987516187774, 0.023571196065430695, 0.050520525352217766, 0.014046131832891455, 0.04450059817364631, 0.011985614361808667, 0.010511682195976377], \"x\": [\"Pclass\", \"Sex\", \"Age\", \"SibSp\", \"Parch\", \"Fare\", \"Mother\", \"Family\", \"Singleton\", \"Family_Size_Big\", \"Family_Size_Small\", \"NamePrefix_Master\", \"NamePrefix_Miss\", \"NamePrefix_Mr\", \"NamePrefix_Mrs\", \"NamePrefix_Officer\", \"NamePrefix_Royalty\", \"Share_Ticket\", \"Share_ticket_survived\", \"Cabin_Numer\", \"Cabin_A\", \"Cabin_B\", \"Cabin_C\", \"Cabin_D\", \"Cabin_E\", \"Cabin_F\", \"Cabin_G\", \"Cabin_M\", \"Cabin_T\", \"Sex_Pclass_Female_High\", \"Sex_Pclass_Female_Low\", \"Sex_Pclass_Female_Mid\", \"Sex_Pclass_Male_High\", \"Sex_Pclass_Male_Low\", \"Sex_Pclass_Male_Mid\", \"Child\"], \"type\": \"scatter\"}], {\"autosize\": true, \"title\": \"Random Forest Feature Importance\", \"showlegend\": false, \"hovermode\": \"closest\", \"yaxis\": {\"ticklen\": 5, \"gridwidth\": 2, \"title\": \"Feature Importance\"}}, {\"linkText\": \"Export to plot.ly\", \"showLink\": true})});</script>"
      ],
      "text/vnd.plotly.v1+html": [
       "<div id=\"1cf0b7fa-9695-43a7-9922-eb46454e7f49\" style=\"height: 525px; width: 100%;\" class=\"plotly-graph-div\"></div><script type=\"text/javascript\">require([\"plotly\"], function(Plotly) { window.PLOTLYENV=window.PLOTLYENV || {};window.PLOTLYENV.BASE_URL=\"https://plot.ly\";Plotly.newPlot(\"1cf0b7fa-9695-43a7-9922-eb46454e7f49\", [{\"text\": [\"Pclass\", \"Sex\", \"Age\", \"SibSp\", \"Parch\", \"Fare\", \"Mother\", \"Family\", \"Singleton\", \"Family_Size_Big\", \"Family_Size_Small\", \"NamePrefix_Master\", \"NamePrefix_Miss\", \"NamePrefix_Mr\", \"NamePrefix_Mrs\", \"NamePrefix_Officer\", \"NamePrefix_Royalty\", \"Share_Ticket\", \"Share_ticket_survived\", \"Cabin_Numer\", \"Cabin_A\", \"Cabin_B\", \"Cabin_C\", \"Cabin_D\", \"Cabin_E\", \"Cabin_F\", \"Cabin_G\", \"Cabin_M\", \"Cabin_T\", \"Sex_Pclass_Female_High\", \"Sex_Pclass_Female_Low\", \"Sex_Pclass_Female_Mid\", \"Sex_Pclass_Male_High\", \"Sex_Pclass_Male_Low\", \"Sex_Pclass_Male_Mid\", \"Child\"], \"marker\": {\"sizeref\": 1, \"colorscale\": \"Portland\", \"color\": [0.0586875357033403, 0.15011371862345277, 0.05881819206693764, 0.01615313532695342, 0.010803757086279824, 0.08282228149501099, 0.0026922334367594307, 0.030476078428431717, 0.007056910276517915, 0.017488010536893445, 0.01806369041872286, 0.011034458334337287, 0.02059501335541847, 0.15487435958803725, 0.0264307924677308, 0.006062369557701528, 0.0, 0.009633595552877848, 0.011053882859128651, 0.043567408418015936, 0.0014398187055231248, 0.003538384571473533, 0.0033813311443991294, 0.0017034167341722353, 0.00675021383358609, 0.0005081994463114086, 0.0005270450283139283, 0.024600902833927296, 0.0, 0.065987516187774, 0.023571196065430695, 0.050520525352217766, 0.014046131832891455, 0.04450059817364631, 0.011985614361808667, 0.010511682195976377], \"sizemode\": \"diameter\", \"showscale\": true, \"size\": 25}, \"mode\": \"markers\", \"y\": [0.0586875357033403, 0.15011371862345277, 0.05881819206693764, 0.01615313532695342, 0.010803757086279824, 0.08282228149501099, 0.0026922334367594307, 0.030476078428431717, 0.007056910276517915, 0.017488010536893445, 0.01806369041872286, 0.011034458334337287, 0.02059501335541847, 0.15487435958803725, 0.0264307924677308, 0.006062369557701528, 0.0, 0.009633595552877848, 0.011053882859128651, 0.043567408418015936, 0.0014398187055231248, 0.003538384571473533, 0.0033813311443991294, 0.0017034167341722353, 0.00675021383358609, 0.0005081994463114086, 0.0005270450283139283, 0.024600902833927296, 0.0, 0.065987516187774, 0.023571196065430695, 0.050520525352217766, 0.014046131832891455, 0.04450059817364631, 0.011985614361808667, 0.010511682195976377], \"x\": [\"Pclass\", \"Sex\", \"Age\", \"SibSp\", \"Parch\", \"Fare\", \"Mother\", \"Family\", \"Singleton\", \"Family_Size_Big\", \"Family_Size_Small\", \"NamePrefix_Master\", \"NamePrefix_Miss\", \"NamePrefix_Mr\", \"NamePrefix_Mrs\", \"NamePrefix_Officer\", \"NamePrefix_Royalty\", \"Share_Ticket\", \"Share_ticket_survived\", \"Cabin_Numer\", \"Cabin_A\", \"Cabin_B\", \"Cabin_C\", \"Cabin_D\", \"Cabin_E\", \"Cabin_F\", \"Cabin_G\", \"Cabin_M\", \"Cabin_T\", \"Sex_Pclass_Female_High\", \"Sex_Pclass_Female_Low\", \"Sex_Pclass_Female_Mid\", \"Sex_Pclass_Male_High\", \"Sex_Pclass_Male_Low\", \"Sex_Pclass_Male_Mid\", \"Child\"], \"type\": \"scatter\"}], {\"autosize\": true, \"title\": \"Random Forest Feature Importance\", \"showlegend\": false, \"hovermode\": \"closest\", \"yaxis\": {\"ticklen\": 5, \"gridwidth\": 2, \"title\": \"Feature Importance\"}}, {\"linkText\": \"Export to plot.ly\", \"showLink\": true})});</script>"
      ]
     },
     "metadata": {},
     "output_type": "display_data"
    },
    {
     "data": {
      "application/vnd.plotly.v1+json": {
       "data": [
        {
         "marker": {
          "color": [
           0.0449394385512189,
           0.16456175118091443,
           0.016650706280578378,
           0.011786542212329892,
           0.0061034138658492415,
           0.019924888257256055,
           0.00376280815382467,
           0.014197012362039014,
           0.007667613138367752,
           0.03515200952943549,
           0.03565520935364758,
           0.0178912797939756,
           0.03909650373287353,
           0.1699185910847758,
           0.036267184325509655,
           0.007989098457856348,
           0.001088446048179904,
           0.010732619394983333,
           0.010355763836831455,
           0.012872006685204648,
           0.0005944552462959817,
           0.0035449474551466696,
           0.0032724614413777967,
           0.0031606015514534665,
           0.008163461660251194,
           0.001531563533995274,
           0.0005541446273527104,
           0.0350596447244527,
           0,
           0.08714364439138628,
           0.03267101669143851,
           0.05924497253725489,
           0.013700276664694293,
           0.0541257505162239,
           0.013419559036944383,
           0.017200613676080015
          ],
          "colorscale": "Portland",
          "showscale": true,
          "size": 25,
          "sizemode": "diameter",
          "sizeref": 1
         },
         "mode": "markers",
         "text": [
          "Pclass",
          "Sex",
          "Age",
          "SibSp",
          "Parch",
          "Fare",
          "Mother",
          "Family",
          "Singleton",
          "Family_Size_Big",
          "Family_Size_Small",
          "NamePrefix_Master",
          "NamePrefix_Miss",
          "NamePrefix_Mr",
          "NamePrefix_Mrs",
          "NamePrefix_Officer",
          "NamePrefix_Royalty",
          "Share_Ticket",
          "Share_ticket_survived",
          "Cabin_Numer",
          "Cabin_A",
          "Cabin_B",
          "Cabin_C",
          "Cabin_D",
          "Cabin_E",
          "Cabin_F",
          "Cabin_G",
          "Cabin_M",
          "Cabin_T",
          "Sex_Pclass_Female_High",
          "Sex_Pclass_Female_Low",
          "Sex_Pclass_Female_Mid",
          "Sex_Pclass_Male_High",
          "Sex_Pclass_Male_Low",
          "Sex_Pclass_Male_Mid",
          "Child"
         ],
         "type": "scatter",
         "x": [
          "Pclass",
          "Sex",
          "Age",
          "SibSp",
          "Parch",
          "Fare",
          "Mother",
          "Family",
          "Singleton",
          "Family_Size_Big",
          "Family_Size_Small",
          "NamePrefix_Master",
          "NamePrefix_Miss",
          "NamePrefix_Mr",
          "NamePrefix_Mrs",
          "NamePrefix_Officer",
          "NamePrefix_Royalty",
          "Share_Ticket",
          "Share_ticket_survived",
          "Cabin_Numer",
          "Cabin_A",
          "Cabin_B",
          "Cabin_C",
          "Cabin_D",
          "Cabin_E",
          "Cabin_F",
          "Cabin_G",
          "Cabin_M",
          "Cabin_T",
          "Sex_Pclass_Female_High",
          "Sex_Pclass_Female_Low",
          "Sex_Pclass_Female_Mid",
          "Sex_Pclass_Male_High",
          "Sex_Pclass_Male_Low",
          "Sex_Pclass_Male_Mid",
          "Child"
         ],
         "y": [
          0.0449394385512189,
          0.16456175118091443,
          0.016650706280578378,
          0.011786542212329892,
          0.0061034138658492415,
          0.019924888257256055,
          0.00376280815382467,
          0.014197012362039014,
          0.007667613138367752,
          0.03515200952943549,
          0.03565520935364758,
          0.0178912797939756,
          0.03909650373287353,
          0.1699185910847758,
          0.036267184325509655,
          0.007989098457856348,
          0.001088446048179904,
          0.010732619394983333,
          0.010355763836831455,
          0.012872006685204648,
          0.0005944552462959817,
          0.0035449474551466696,
          0.0032724614413777967,
          0.0031606015514534665,
          0.008163461660251194,
          0.001531563533995274,
          0.0005541446273527104,
          0.0350596447244527,
          0,
          0.08714364439138628,
          0.03267101669143851,
          0.05924497253725489,
          0.013700276664694293,
          0.0541257505162239,
          0.013419559036944383,
          0.017200613676080015
         ]
        }
       ],
       "layout": {
        "autosize": true,
        "hovermode": "closest",
        "showlegend": false,
        "title": "Extra Trees Feature Importance",
        "yaxis": {
         "gridwidth": 2,
         "ticklen": 5,
         "title": "Feature Importance"
        }
       }
      },
      "text/html": [
       "<div id=\"1b7459ed-9303-4c8d-8d2d-94fa38f19ec8\" style=\"height: 525px; width: 100%;\" class=\"plotly-graph-div\"></div><script type=\"text/javascript\">require([\"plotly\"], function(Plotly) { window.PLOTLYENV=window.PLOTLYENV || {};window.PLOTLYENV.BASE_URL=\"https://plot.ly\";Plotly.newPlot(\"1b7459ed-9303-4c8d-8d2d-94fa38f19ec8\", [{\"text\": [\"Pclass\", \"Sex\", \"Age\", \"SibSp\", \"Parch\", \"Fare\", \"Mother\", \"Family\", \"Singleton\", \"Family_Size_Big\", \"Family_Size_Small\", \"NamePrefix_Master\", \"NamePrefix_Miss\", \"NamePrefix_Mr\", \"NamePrefix_Mrs\", \"NamePrefix_Officer\", \"NamePrefix_Royalty\", \"Share_Ticket\", \"Share_ticket_survived\", \"Cabin_Numer\", \"Cabin_A\", \"Cabin_B\", \"Cabin_C\", \"Cabin_D\", \"Cabin_E\", \"Cabin_F\", \"Cabin_G\", \"Cabin_M\", \"Cabin_T\", \"Sex_Pclass_Female_High\", \"Sex_Pclass_Female_Low\", \"Sex_Pclass_Female_Mid\", \"Sex_Pclass_Male_High\", \"Sex_Pclass_Male_Low\", \"Sex_Pclass_Male_Mid\", \"Child\"], \"marker\": {\"sizeref\": 1, \"colorscale\": \"Portland\", \"color\": [0.0449394385512189, 0.16456175118091443, 0.016650706280578378, 0.011786542212329892, 0.0061034138658492415, 0.019924888257256055, 0.00376280815382467, 0.014197012362039014, 0.007667613138367752, 0.03515200952943549, 0.03565520935364758, 0.0178912797939756, 0.03909650373287353, 0.1699185910847758, 0.036267184325509655, 0.007989098457856348, 0.001088446048179904, 0.010732619394983333, 0.010355763836831455, 0.012872006685204648, 0.0005944552462959817, 0.0035449474551466696, 0.0032724614413777967, 0.0031606015514534665, 0.008163461660251194, 0.001531563533995274, 0.0005541446273527104, 0.0350596447244527, 0.0, 0.08714364439138628, 0.03267101669143851, 0.05924497253725489, 0.013700276664694293, 0.0541257505162239, 0.013419559036944383, 0.017200613676080015], \"sizemode\": \"diameter\", \"showscale\": true, \"size\": 25}, \"mode\": \"markers\", \"y\": [0.0449394385512189, 0.16456175118091443, 0.016650706280578378, 0.011786542212329892, 0.0061034138658492415, 0.019924888257256055, 0.00376280815382467, 0.014197012362039014, 0.007667613138367752, 0.03515200952943549, 0.03565520935364758, 0.0178912797939756, 0.03909650373287353, 0.1699185910847758, 0.036267184325509655, 0.007989098457856348, 0.001088446048179904, 0.010732619394983333, 0.010355763836831455, 0.012872006685204648, 0.0005944552462959817, 0.0035449474551466696, 0.0032724614413777967, 0.0031606015514534665, 0.008163461660251194, 0.001531563533995274, 0.0005541446273527104, 0.0350596447244527, 0.0, 0.08714364439138628, 0.03267101669143851, 0.05924497253725489, 0.013700276664694293, 0.0541257505162239, 0.013419559036944383, 0.017200613676080015], \"x\": [\"Pclass\", \"Sex\", \"Age\", \"SibSp\", \"Parch\", \"Fare\", \"Mother\", \"Family\", \"Singleton\", \"Family_Size_Big\", \"Family_Size_Small\", \"NamePrefix_Master\", \"NamePrefix_Miss\", \"NamePrefix_Mr\", \"NamePrefix_Mrs\", \"NamePrefix_Officer\", \"NamePrefix_Royalty\", \"Share_Ticket\", \"Share_ticket_survived\", \"Cabin_Numer\", \"Cabin_A\", \"Cabin_B\", \"Cabin_C\", \"Cabin_D\", \"Cabin_E\", \"Cabin_F\", \"Cabin_G\", \"Cabin_M\", \"Cabin_T\", \"Sex_Pclass_Female_High\", \"Sex_Pclass_Female_Low\", \"Sex_Pclass_Female_Mid\", \"Sex_Pclass_Male_High\", \"Sex_Pclass_Male_Low\", \"Sex_Pclass_Male_Mid\", \"Child\"], \"type\": \"scatter\"}], {\"autosize\": true, \"title\": \"Extra Trees Feature Importance\", \"showlegend\": false, \"hovermode\": \"closest\", \"yaxis\": {\"ticklen\": 5, \"gridwidth\": 2, \"title\": \"Feature Importance\"}}, {\"linkText\": \"Export to plot.ly\", \"showLink\": true})});</script>"
      ],
      "text/vnd.plotly.v1+html": [
       "<div id=\"1b7459ed-9303-4c8d-8d2d-94fa38f19ec8\" style=\"height: 525px; width: 100%;\" class=\"plotly-graph-div\"></div><script type=\"text/javascript\">require([\"plotly\"], function(Plotly) { window.PLOTLYENV=window.PLOTLYENV || {};window.PLOTLYENV.BASE_URL=\"https://plot.ly\";Plotly.newPlot(\"1b7459ed-9303-4c8d-8d2d-94fa38f19ec8\", [{\"text\": [\"Pclass\", \"Sex\", \"Age\", \"SibSp\", \"Parch\", \"Fare\", \"Mother\", \"Family\", \"Singleton\", \"Family_Size_Big\", \"Family_Size_Small\", \"NamePrefix_Master\", \"NamePrefix_Miss\", \"NamePrefix_Mr\", \"NamePrefix_Mrs\", \"NamePrefix_Officer\", \"NamePrefix_Royalty\", \"Share_Ticket\", \"Share_ticket_survived\", \"Cabin_Numer\", \"Cabin_A\", \"Cabin_B\", \"Cabin_C\", \"Cabin_D\", \"Cabin_E\", \"Cabin_F\", \"Cabin_G\", \"Cabin_M\", \"Cabin_T\", \"Sex_Pclass_Female_High\", \"Sex_Pclass_Female_Low\", \"Sex_Pclass_Female_Mid\", \"Sex_Pclass_Male_High\", \"Sex_Pclass_Male_Low\", \"Sex_Pclass_Male_Mid\", \"Child\"], \"marker\": {\"sizeref\": 1, \"colorscale\": \"Portland\", \"color\": [0.0449394385512189, 0.16456175118091443, 0.016650706280578378, 0.011786542212329892, 0.0061034138658492415, 0.019924888257256055, 0.00376280815382467, 0.014197012362039014, 0.007667613138367752, 0.03515200952943549, 0.03565520935364758, 0.0178912797939756, 0.03909650373287353, 0.1699185910847758, 0.036267184325509655, 0.007989098457856348, 0.001088446048179904, 0.010732619394983333, 0.010355763836831455, 0.012872006685204648, 0.0005944552462959817, 0.0035449474551466696, 0.0032724614413777967, 0.0031606015514534665, 0.008163461660251194, 0.001531563533995274, 0.0005541446273527104, 0.0350596447244527, 0.0, 0.08714364439138628, 0.03267101669143851, 0.05924497253725489, 0.013700276664694293, 0.0541257505162239, 0.013419559036944383, 0.017200613676080015], \"sizemode\": \"diameter\", \"showscale\": true, \"size\": 25}, \"mode\": \"markers\", \"y\": [0.0449394385512189, 0.16456175118091443, 0.016650706280578378, 0.011786542212329892, 0.0061034138658492415, 0.019924888257256055, 0.00376280815382467, 0.014197012362039014, 0.007667613138367752, 0.03515200952943549, 0.03565520935364758, 0.0178912797939756, 0.03909650373287353, 0.1699185910847758, 0.036267184325509655, 0.007989098457856348, 0.001088446048179904, 0.010732619394983333, 0.010355763836831455, 0.012872006685204648, 0.0005944552462959817, 0.0035449474551466696, 0.0032724614413777967, 0.0031606015514534665, 0.008163461660251194, 0.001531563533995274, 0.0005541446273527104, 0.0350596447244527, 0.0, 0.08714364439138628, 0.03267101669143851, 0.05924497253725489, 0.013700276664694293, 0.0541257505162239, 0.013419559036944383, 0.017200613676080015], \"x\": [\"Pclass\", \"Sex\", \"Age\", \"SibSp\", \"Parch\", \"Fare\", \"Mother\", \"Family\", \"Singleton\", \"Family_Size_Big\", \"Family_Size_Small\", \"NamePrefix_Master\", \"NamePrefix_Miss\", \"NamePrefix_Mr\", \"NamePrefix_Mrs\", \"NamePrefix_Officer\", \"NamePrefix_Royalty\", \"Share_Ticket\", \"Share_ticket_survived\", \"Cabin_Numer\", \"Cabin_A\", \"Cabin_B\", \"Cabin_C\", \"Cabin_D\", \"Cabin_E\", \"Cabin_F\", \"Cabin_G\", \"Cabin_M\", \"Cabin_T\", \"Sex_Pclass_Female_High\", \"Sex_Pclass_Female_Low\", \"Sex_Pclass_Female_Mid\", \"Sex_Pclass_Male_High\", \"Sex_Pclass_Male_Low\", \"Sex_Pclass_Male_Mid\", \"Child\"], \"type\": \"scatter\"}], {\"autosize\": true, \"title\": \"Extra Trees Feature Importance\", \"showlegend\": false, \"hovermode\": \"closest\", \"yaxis\": {\"ticklen\": 5, \"gridwidth\": 2, \"title\": \"Feature Importance\"}}, {\"linkText\": \"Export to plot.ly\", \"showLink\": true})});</script>"
      ]
     },
     "metadata": {},
     "output_type": "display_data"
    },
    {
     "data": {
      "application/vnd.plotly.v1+json": {
       "data": [
        {
         "marker": {
          "color": [
           0.004,
           0,
           0.232,
           0.01,
           0.026,
           0.454,
           0.002,
           0.038,
           0.002,
           0,
           0.012,
           0.006,
           0,
           0.004,
           0.01,
           0.006,
           0.002,
           0.006,
           0,
           0.134,
           0,
           0,
           0.01,
           0,
           0.006,
           0,
           0.004,
           0,
           0.002,
           0.02,
           0,
           0.006,
           0,
           0,
           0.002,
           0.002
          ],
          "colorscale": "Portland",
          "showscale": true,
          "size": 25,
          "sizemode": "diameter",
          "sizeref": 1
         },
         "mode": "markers",
         "text": [
          "Pclass",
          "Sex",
          "Age",
          "SibSp",
          "Parch",
          "Fare",
          "Mother",
          "Family",
          "Singleton",
          "Family_Size_Big",
          "Family_Size_Small",
          "NamePrefix_Master",
          "NamePrefix_Miss",
          "NamePrefix_Mr",
          "NamePrefix_Mrs",
          "NamePrefix_Officer",
          "NamePrefix_Royalty",
          "Share_Ticket",
          "Share_ticket_survived",
          "Cabin_Numer",
          "Cabin_A",
          "Cabin_B",
          "Cabin_C",
          "Cabin_D",
          "Cabin_E",
          "Cabin_F",
          "Cabin_G",
          "Cabin_M",
          "Cabin_T",
          "Sex_Pclass_Female_High",
          "Sex_Pclass_Female_Low",
          "Sex_Pclass_Female_Mid",
          "Sex_Pclass_Male_High",
          "Sex_Pclass_Male_Low",
          "Sex_Pclass_Male_Mid",
          "Child"
         ],
         "type": "scatter",
         "x": [
          "Pclass",
          "Sex",
          "Age",
          "SibSp",
          "Parch",
          "Fare",
          "Mother",
          "Family",
          "Singleton",
          "Family_Size_Big",
          "Family_Size_Small",
          "NamePrefix_Master",
          "NamePrefix_Miss",
          "NamePrefix_Mr",
          "NamePrefix_Mrs",
          "NamePrefix_Officer",
          "NamePrefix_Royalty",
          "Share_Ticket",
          "Share_ticket_survived",
          "Cabin_Numer",
          "Cabin_A",
          "Cabin_B",
          "Cabin_C",
          "Cabin_D",
          "Cabin_E",
          "Cabin_F",
          "Cabin_G",
          "Cabin_M",
          "Cabin_T",
          "Sex_Pclass_Female_High",
          "Sex_Pclass_Female_Low",
          "Sex_Pclass_Female_Mid",
          "Sex_Pclass_Male_High",
          "Sex_Pclass_Male_Low",
          "Sex_Pclass_Male_Mid",
          "Child"
         ],
         "y": [
          0.004,
          0,
          0.232,
          0.01,
          0.026,
          0.454,
          0.002,
          0.038,
          0.002,
          0,
          0.012,
          0.006,
          0,
          0.004,
          0.01,
          0.006,
          0.002,
          0.006,
          0,
          0.134,
          0,
          0,
          0.01,
          0,
          0.006,
          0,
          0.004,
          0,
          0.002,
          0.02,
          0,
          0.006,
          0,
          0,
          0.002,
          0.002
         ]
        }
       ],
       "layout": {
        "autosize": true,
        "hovermode": "closest",
        "showlegend": false,
        "title": "AdaBoost Feature Importance",
        "yaxis": {
         "gridwidth": 2,
         "ticklen": 5,
         "title": "Feature Importance"
        }
       }
      },
      "text/html": [
       "<div id=\"c21f3f4a-6d04-4f94-9e1f-0126cd9aa554\" style=\"height: 525px; width: 100%;\" class=\"plotly-graph-div\"></div><script type=\"text/javascript\">require([\"plotly\"], function(Plotly) { window.PLOTLYENV=window.PLOTLYENV || {};window.PLOTLYENV.BASE_URL=\"https://plot.ly\";Plotly.newPlot(\"c21f3f4a-6d04-4f94-9e1f-0126cd9aa554\", [{\"text\": [\"Pclass\", \"Sex\", \"Age\", \"SibSp\", \"Parch\", \"Fare\", \"Mother\", \"Family\", \"Singleton\", \"Family_Size_Big\", \"Family_Size_Small\", \"NamePrefix_Master\", \"NamePrefix_Miss\", \"NamePrefix_Mr\", \"NamePrefix_Mrs\", \"NamePrefix_Officer\", \"NamePrefix_Royalty\", \"Share_Ticket\", \"Share_ticket_survived\", \"Cabin_Numer\", \"Cabin_A\", \"Cabin_B\", \"Cabin_C\", \"Cabin_D\", \"Cabin_E\", \"Cabin_F\", \"Cabin_G\", \"Cabin_M\", \"Cabin_T\", \"Sex_Pclass_Female_High\", \"Sex_Pclass_Female_Low\", \"Sex_Pclass_Female_Mid\", \"Sex_Pclass_Male_High\", \"Sex_Pclass_Male_Low\", \"Sex_Pclass_Male_Mid\", \"Child\"], \"marker\": {\"sizeref\": 1, \"colorscale\": \"Portland\", \"color\": [0.004, 0.0, 0.232, 0.01, 0.026, 0.454, 0.002, 0.038, 0.002, 0.0, 0.012, 0.006, 0.0, 0.004, 0.01, 0.006, 0.002, 0.006, 0.0, 0.134, 0.0, 0.0, 0.01, 0.0, 0.006, 0.0, 0.004, 0.0, 0.002, 0.02, 0.0, 0.006, 0.0, 0.0, 0.002, 0.002], \"sizemode\": \"diameter\", \"showscale\": true, \"size\": 25}, \"mode\": \"markers\", \"y\": [0.004, 0.0, 0.232, 0.01, 0.026, 0.454, 0.002, 0.038, 0.002, 0.0, 0.012, 0.006, 0.0, 0.004, 0.01, 0.006, 0.002, 0.006, 0.0, 0.134, 0.0, 0.0, 0.01, 0.0, 0.006, 0.0, 0.004, 0.0, 0.002, 0.02, 0.0, 0.006, 0.0, 0.0, 0.002, 0.002], \"x\": [\"Pclass\", \"Sex\", \"Age\", \"SibSp\", \"Parch\", \"Fare\", \"Mother\", \"Family\", \"Singleton\", \"Family_Size_Big\", \"Family_Size_Small\", \"NamePrefix_Master\", \"NamePrefix_Miss\", \"NamePrefix_Mr\", \"NamePrefix_Mrs\", \"NamePrefix_Officer\", \"NamePrefix_Royalty\", \"Share_Ticket\", \"Share_ticket_survived\", \"Cabin_Numer\", \"Cabin_A\", \"Cabin_B\", \"Cabin_C\", \"Cabin_D\", \"Cabin_E\", \"Cabin_F\", \"Cabin_G\", \"Cabin_M\", \"Cabin_T\", \"Sex_Pclass_Female_High\", \"Sex_Pclass_Female_Low\", \"Sex_Pclass_Female_Mid\", \"Sex_Pclass_Male_High\", \"Sex_Pclass_Male_Low\", \"Sex_Pclass_Male_Mid\", \"Child\"], \"type\": \"scatter\"}], {\"autosize\": true, \"title\": \"AdaBoost Feature Importance\", \"showlegend\": false, \"hovermode\": \"closest\", \"yaxis\": {\"ticklen\": 5, \"gridwidth\": 2, \"title\": \"Feature Importance\"}}, {\"linkText\": \"Export to plot.ly\", \"showLink\": true})});</script>"
      ],
      "text/vnd.plotly.v1+html": [
       "<div id=\"c21f3f4a-6d04-4f94-9e1f-0126cd9aa554\" style=\"height: 525px; width: 100%;\" class=\"plotly-graph-div\"></div><script type=\"text/javascript\">require([\"plotly\"], function(Plotly) { window.PLOTLYENV=window.PLOTLYENV || {};window.PLOTLYENV.BASE_URL=\"https://plot.ly\";Plotly.newPlot(\"c21f3f4a-6d04-4f94-9e1f-0126cd9aa554\", [{\"text\": [\"Pclass\", \"Sex\", \"Age\", \"SibSp\", \"Parch\", \"Fare\", \"Mother\", \"Family\", \"Singleton\", \"Family_Size_Big\", \"Family_Size_Small\", \"NamePrefix_Master\", \"NamePrefix_Miss\", \"NamePrefix_Mr\", \"NamePrefix_Mrs\", \"NamePrefix_Officer\", \"NamePrefix_Royalty\", \"Share_Ticket\", \"Share_ticket_survived\", \"Cabin_Numer\", \"Cabin_A\", \"Cabin_B\", \"Cabin_C\", \"Cabin_D\", \"Cabin_E\", \"Cabin_F\", \"Cabin_G\", \"Cabin_M\", \"Cabin_T\", \"Sex_Pclass_Female_High\", \"Sex_Pclass_Female_Low\", \"Sex_Pclass_Female_Mid\", \"Sex_Pclass_Male_High\", \"Sex_Pclass_Male_Low\", \"Sex_Pclass_Male_Mid\", \"Child\"], \"marker\": {\"sizeref\": 1, \"colorscale\": \"Portland\", \"color\": [0.004, 0.0, 0.232, 0.01, 0.026, 0.454, 0.002, 0.038, 0.002, 0.0, 0.012, 0.006, 0.0, 0.004, 0.01, 0.006, 0.002, 0.006, 0.0, 0.134, 0.0, 0.0, 0.01, 0.0, 0.006, 0.0, 0.004, 0.0, 0.002, 0.02, 0.0, 0.006, 0.0, 0.0, 0.002, 0.002], \"sizemode\": \"diameter\", \"showscale\": true, \"size\": 25}, \"mode\": \"markers\", \"y\": [0.004, 0.0, 0.232, 0.01, 0.026, 0.454, 0.002, 0.038, 0.002, 0.0, 0.012, 0.006, 0.0, 0.004, 0.01, 0.006, 0.002, 0.006, 0.0, 0.134, 0.0, 0.0, 0.01, 0.0, 0.006, 0.0, 0.004, 0.0, 0.002, 0.02, 0.0, 0.006, 0.0, 0.0, 0.002, 0.002], \"x\": [\"Pclass\", \"Sex\", \"Age\", \"SibSp\", \"Parch\", \"Fare\", \"Mother\", \"Family\", \"Singleton\", \"Family_Size_Big\", \"Family_Size_Small\", \"NamePrefix_Master\", \"NamePrefix_Miss\", \"NamePrefix_Mr\", \"NamePrefix_Mrs\", \"NamePrefix_Officer\", \"NamePrefix_Royalty\", \"Share_Ticket\", \"Share_ticket_survived\", \"Cabin_Numer\", \"Cabin_A\", \"Cabin_B\", \"Cabin_C\", \"Cabin_D\", \"Cabin_E\", \"Cabin_F\", \"Cabin_G\", \"Cabin_M\", \"Cabin_T\", \"Sex_Pclass_Female_High\", \"Sex_Pclass_Female_Low\", \"Sex_Pclass_Female_Mid\", \"Sex_Pclass_Male_High\", \"Sex_Pclass_Male_Low\", \"Sex_Pclass_Male_Mid\", \"Child\"], \"type\": \"scatter\"}], {\"autosize\": true, \"title\": \"AdaBoost Feature Importance\", \"showlegend\": false, \"hovermode\": \"closest\", \"yaxis\": {\"ticklen\": 5, \"gridwidth\": 2, \"title\": \"Feature Importance\"}}, {\"linkText\": \"Export to plot.ly\", \"showLink\": true})});</script>"
      ]
     },
     "metadata": {},
     "output_type": "display_data"
    },
    {
     "data": {
      "application/vnd.plotly.v1+json": {
       "data": [
        {
         "marker": {
          "color": [
           0.01496438895326612,
           0.008991214095888857,
           0.38545593395107325,
           0.02262570272156223,
           0.005515375231189061,
           0.3375943203197002,
           0.0013691988802647264,
           0.018760057730491005,
           0.008505272536845633,
           0.002564126253447593,
           0.0021468072308921796,
           0.0034019529425019066,
           0.008448694270889338,
           0.027020925416451406,
           0.005188431212185285,
           0.0060200395882260786,
           0.0009691127651031991,
           0.004609279922431209,
           0.004692120765341019,
           0.05709150587855025,
           0.005617971168770003,
           0.0015965919932717197,
           0.002988685803313003,
           0.004583347577274661,
           0.0032127031893665514,
           0.0016547392704258374,
           0.0008368680651992551,
           0.00290356022870093,
           0,
           0.006479474725094968,
           0.009545322806940624,
           0.0020198253486876754,
           0.005684291789602435,
           0.010491608654729747,
           0.016225826533418412,
           0.00022472217890372642
          ],
          "colorscale": "Portland",
          "showscale": true,
          "size": 25,
          "sizemode": "diameter",
          "sizeref": 1
         },
         "mode": "markers",
         "text": [
          "Pclass",
          "Sex",
          "Age",
          "SibSp",
          "Parch",
          "Fare",
          "Mother",
          "Family",
          "Singleton",
          "Family_Size_Big",
          "Family_Size_Small",
          "NamePrefix_Master",
          "NamePrefix_Miss",
          "NamePrefix_Mr",
          "NamePrefix_Mrs",
          "NamePrefix_Officer",
          "NamePrefix_Royalty",
          "Share_Ticket",
          "Share_ticket_survived",
          "Cabin_Numer",
          "Cabin_A",
          "Cabin_B",
          "Cabin_C",
          "Cabin_D",
          "Cabin_E",
          "Cabin_F",
          "Cabin_G",
          "Cabin_M",
          "Cabin_T",
          "Sex_Pclass_Female_High",
          "Sex_Pclass_Female_Low",
          "Sex_Pclass_Female_Mid",
          "Sex_Pclass_Male_High",
          "Sex_Pclass_Male_Low",
          "Sex_Pclass_Male_Mid",
          "Child"
         ],
         "type": "scatter",
         "x": [
          "Pclass",
          "Sex",
          "Age",
          "SibSp",
          "Parch",
          "Fare",
          "Mother",
          "Family",
          "Singleton",
          "Family_Size_Big",
          "Family_Size_Small",
          "NamePrefix_Master",
          "NamePrefix_Miss",
          "NamePrefix_Mr",
          "NamePrefix_Mrs",
          "NamePrefix_Officer",
          "NamePrefix_Royalty",
          "Share_Ticket",
          "Share_ticket_survived",
          "Cabin_Numer",
          "Cabin_A",
          "Cabin_B",
          "Cabin_C",
          "Cabin_D",
          "Cabin_E",
          "Cabin_F",
          "Cabin_G",
          "Cabin_M",
          "Cabin_T",
          "Sex_Pclass_Female_High",
          "Sex_Pclass_Female_Low",
          "Sex_Pclass_Female_Mid",
          "Sex_Pclass_Male_High",
          "Sex_Pclass_Male_Low",
          "Sex_Pclass_Male_Mid",
          "Child"
         ],
         "y": [
          0.01496438895326612,
          0.008991214095888857,
          0.38545593395107325,
          0.02262570272156223,
          0.005515375231189061,
          0.3375943203197002,
          0.0013691988802647264,
          0.018760057730491005,
          0.008505272536845633,
          0.002564126253447593,
          0.0021468072308921796,
          0.0034019529425019066,
          0.008448694270889338,
          0.027020925416451406,
          0.005188431212185285,
          0.0060200395882260786,
          0.0009691127651031991,
          0.004609279922431209,
          0.004692120765341019,
          0.05709150587855025,
          0.005617971168770003,
          0.0015965919932717197,
          0.002988685803313003,
          0.004583347577274661,
          0.0032127031893665514,
          0.0016547392704258374,
          0.0008368680651992551,
          0.00290356022870093,
          0,
          0.006479474725094968,
          0.009545322806940624,
          0.0020198253486876754,
          0.005684291789602435,
          0.010491608654729747,
          0.016225826533418412,
          0.00022472217890372642
         ]
        }
       ],
       "layout": {
        "autosize": true,
        "hovermode": "closest",
        "showlegend": false,
        "title": "Gradient Boosting Feature Importance",
        "yaxis": {
         "gridwidth": 2,
         "ticklen": 5,
         "title": "Feature Importance"
        }
       }
      },
      "text/html": [
       "<div id=\"e865e184-cbe0-442c-b808-fab984390ed2\" style=\"height: 525px; width: 100%;\" class=\"plotly-graph-div\"></div><script type=\"text/javascript\">require([\"plotly\"], function(Plotly) { window.PLOTLYENV=window.PLOTLYENV || {};window.PLOTLYENV.BASE_URL=\"https://plot.ly\";Plotly.newPlot(\"e865e184-cbe0-442c-b808-fab984390ed2\", [{\"text\": [\"Pclass\", \"Sex\", \"Age\", \"SibSp\", \"Parch\", \"Fare\", \"Mother\", \"Family\", \"Singleton\", \"Family_Size_Big\", \"Family_Size_Small\", \"NamePrefix_Master\", \"NamePrefix_Miss\", \"NamePrefix_Mr\", \"NamePrefix_Mrs\", \"NamePrefix_Officer\", \"NamePrefix_Royalty\", \"Share_Ticket\", \"Share_ticket_survived\", \"Cabin_Numer\", \"Cabin_A\", \"Cabin_B\", \"Cabin_C\", \"Cabin_D\", \"Cabin_E\", \"Cabin_F\", \"Cabin_G\", \"Cabin_M\", \"Cabin_T\", \"Sex_Pclass_Female_High\", \"Sex_Pclass_Female_Low\", \"Sex_Pclass_Female_Mid\", \"Sex_Pclass_Male_High\", \"Sex_Pclass_Male_Low\", \"Sex_Pclass_Male_Mid\", \"Child\"], \"marker\": {\"sizeref\": 1, \"colorscale\": \"Portland\", \"color\": [0.01496438895326612, 0.008991214095888857, 0.38545593395107325, 0.02262570272156223, 0.005515375231189061, 0.3375943203197002, 0.0013691988802647264, 0.018760057730491005, 0.008505272536845633, 0.002564126253447593, 0.0021468072308921796, 0.0034019529425019066, 0.008448694270889338, 0.027020925416451406, 0.005188431212185285, 0.0060200395882260786, 0.0009691127651031991, 0.004609279922431209, 0.004692120765341019, 0.05709150587855025, 0.005617971168770003, 0.0015965919932717197, 0.002988685803313003, 0.004583347577274661, 0.0032127031893665514, 0.0016547392704258374, 0.0008368680651992551, 0.00290356022870093, 0.0, 0.006479474725094968, 0.009545322806940624, 0.0020198253486876754, 0.005684291789602435, 0.010491608654729747, 0.016225826533418412, 0.00022472217890372642], \"sizemode\": \"diameter\", \"showscale\": true, \"size\": 25}, \"mode\": \"markers\", \"y\": [0.01496438895326612, 0.008991214095888857, 0.38545593395107325, 0.02262570272156223, 0.005515375231189061, 0.3375943203197002, 0.0013691988802647264, 0.018760057730491005, 0.008505272536845633, 0.002564126253447593, 0.0021468072308921796, 0.0034019529425019066, 0.008448694270889338, 0.027020925416451406, 0.005188431212185285, 0.0060200395882260786, 0.0009691127651031991, 0.004609279922431209, 0.004692120765341019, 0.05709150587855025, 0.005617971168770003, 0.0015965919932717197, 0.002988685803313003, 0.004583347577274661, 0.0032127031893665514, 0.0016547392704258374, 0.0008368680651992551, 0.00290356022870093, 0.0, 0.006479474725094968, 0.009545322806940624, 0.0020198253486876754, 0.005684291789602435, 0.010491608654729747, 0.016225826533418412, 0.00022472217890372642], \"x\": [\"Pclass\", \"Sex\", \"Age\", \"SibSp\", \"Parch\", \"Fare\", \"Mother\", \"Family\", \"Singleton\", \"Family_Size_Big\", \"Family_Size_Small\", \"NamePrefix_Master\", \"NamePrefix_Miss\", \"NamePrefix_Mr\", \"NamePrefix_Mrs\", \"NamePrefix_Officer\", \"NamePrefix_Royalty\", \"Share_Ticket\", \"Share_ticket_survived\", \"Cabin_Numer\", \"Cabin_A\", \"Cabin_B\", \"Cabin_C\", \"Cabin_D\", \"Cabin_E\", \"Cabin_F\", \"Cabin_G\", \"Cabin_M\", \"Cabin_T\", \"Sex_Pclass_Female_High\", \"Sex_Pclass_Female_Low\", \"Sex_Pclass_Female_Mid\", \"Sex_Pclass_Male_High\", \"Sex_Pclass_Male_Low\", \"Sex_Pclass_Male_Mid\", \"Child\"], \"type\": \"scatter\"}], {\"autosize\": true, \"title\": \"Gradient Boosting Feature Importance\", \"showlegend\": false, \"hovermode\": \"closest\", \"yaxis\": {\"ticklen\": 5, \"gridwidth\": 2, \"title\": \"Feature Importance\"}}, {\"linkText\": \"Export to plot.ly\", \"showLink\": true})});</script>"
      ],
      "text/vnd.plotly.v1+html": [
       "<div id=\"e865e184-cbe0-442c-b808-fab984390ed2\" style=\"height: 525px; width: 100%;\" class=\"plotly-graph-div\"></div><script type=\"text/javascript\">require([\"plotly\"], function(Plotly) { window.PLOTLYENV=window.PLOTLYENV || {};window.PLOTLYENV.BASE_URL=\"https://plot.ly\";Plotly.newPlot(\"e865e184-cbe0-442c-b808-fab984390ed2\", [{\"text\": [\"Pclass\", \"Sex\", \"Age\", \"SibSp\", \"Parch\", \"Fare\", \"Mother\", \"Family\", \"Singleton\", \"Family_Size_Big\", \"Family_Size_Small\", \"NamePrefix_Master\", \"NamePrefix_Miss\", \"NamePrefix_Mr\", \"NamePrefix_Mrs\", \"NamePrefix_Officer\", \"NamePrefix_Royalty\", \"Share_Ticket\", \"Share_ticket_survived\", \"Cabin_Numer\", \"Cabin_A\", \"Cabin_B\", \"Cabin_C\", \"Cabin_D\", \"Cabin_E\", \"Cabin_F\", \"Cabin_G\", \"Cabin_M\", \"Cabin_T\", \"Sex_Pclass_Female_High\", \"Sex_Pclass_Female_Low\", \"Sex_Pclass_Female_Mid\", \"Sex_Pclass_Male_High\", \"Sex_Pclass_Male_Low\", \"Sex_Pclass_Male_Mid\", \"Child\"], \"marker\": {\"sizeref\": 1, \"colorscale\": \"Portland\", \"color\": [0.01496438895326612, 0.008991214095888857, 0.38545593395107325, 0.02262570272156223, 0.005515375231189061, 0.3375943203197002, 0.0013691988802647264, 0.018760057730491005, 0.008505272536845633, 0.002564126253447593, 0.0021468072308921796, 0.0034019529425019066, 0.008448694270889338, 0.027020925416451406, 0.005188431212185285, 0.0060200395882260786, 0.0009691127651031991, 0.004609279922431209, 0.004692120765341019, 0.05709150587855025, 0.005617971168770003, 0.0015965919932717197, 0.002988685803313003, 0.004583347577274661, 0.0032127031893665514, 0.0016547392704258374, 0.0008368680651992551, 0.00290356022870093, 0.0, 0.006479474725094968, 0.009545322806940624, 0.0020198253486876754, 0.005684291789602435, 0.010491608654729747, 0.016225826533418412, 0.00022472217890372642], \"sizemode\": \"diameter\", \"showscale\": true, \"size\": 25}, \"mode\": \"markers\", \"y\": [0.01496438895326612, 0.008991214095888857, 0.38545593395107325, 0.02262570272156223, 0.005515375231189061, 0.3375943203197002, 0.0013691988802647264, 0.018760057730491005, 0.008505272536845633, 0.002564126253447593, 0.0021468072308921796, 0.0034019529425019066, 0.008448694270889338, 0.027020925416451406, 0.005188431212185285, 0.0060200395882260786, 0.0009691127651031991, 0.004609279922431209, 0.004692120765341019, 0.05709150587855025, 0.005617971168770003, 0.0015965919932717197, 0.002988685803313003, 0.004583347577274661, 0.0032127031893665514, 0.0016547392704258374, 0.0008368680651992551, 0.00290356022870093, 0.0, 0.006479474725094968, 0.009545322806940624, 0.0020198253486876754, 0.005684291789602435, 0.010491608654729747, 0.016225826533418412, 0.00022472217890372642], \"x\": [\"Pclass\", \"Sex\", \"Age\", \"SibSp\", \"Parch\", \"Fare\", \"Mother\", \"Family\", \"Singleton\", \"Family_Size_Big\", \"Family_Size_Small\", \"NamePrefix_Master\", \"NamePrefix_Miss\", \"NamePrefix_Mr\", \"NamePrefix_Mrs\", \"NamePrefix_Officer\", \"NamePrefix_Royalty\", \"Share_Ticket\", \"Share_ticket_survived\", \"Cabin_Numer\", \"Cabin_A\", \"Cabin_B\", \"Cabin_C\", \"Cabin_D\", \"Cabin_E\", \"Cabin_F\", \"Cabin_G\", \"Cabin_M\", \"Cabin_T\", \"Sex_Pclass_Female_High\", \"Sex_Pclass_Female_Low\", \"Sex_Pclass_Female_Mid\", \"Sex_Pclass_Male_High\", \"Sex_Pclass_Male_Low\", \"Sex_Pclass_Male_Mid\", \"Child\"], \"type\": \"scatter\"}], {\"autosize\": true, \"title\": \"Gradient Boosting Feature Importance\", \"showlegend\": false, \"hovermode\": \"closest\", \"yaxis\": {\"ticklen\": 5, \"gridwidth\": 2, \"title\": \"Feature Importance\"}}, {\"linkText\": \"Export to plot.ly\", \"showLink\": true})});</script>"
      ]
     },
     "metadata": {},
     "output_type": "display_data"
    }
   ],
   "source": [
    "import plotly.graph_objs as go\n",
    "import plotly.offline as py\n",
    "py.init_notebook_mode(connected=True)\n",
    "# Scatter plot \n",
    "trace = go.Scatter(\n",
    "    y = feature_dataframe['Random Forest feature importances'].values,\n",
    "    x = feature_dataframe['features'].values,\n",
    "    mode='markers',\n",
    "    marker=dict(\n",
    "        sizemode = 'diameter',\n",
    "        sizeref = 1,\n",
    "        size = 25,\n",
    "#       size= feature_dataframe['AdaBoost feature importances'].values,\n",
    "        #color = np.random.randn(500), #set color equal to a variable\n",
    "        color = feature_dataframe['Random Forest feature importances'].values,\n",
    "        colorscale='Portland',\n",
    "        showscale=True\n",
    "    ),\n",
    "    text = feature_dataframe['features'].values\n",
    ")\n",
    "data = [trace]\n",
    "\n",
    "layout= go.Layout(\n",
    "    autosize= True,\n",
    "    title= 'Random Forest Feature Importance',\n",
    "    hovermode= 'closest',\n",
    "#     xaxis= dict(\n",
    "#         title= 'Pop',\n",
    "#         ticklen= 5,\n",
    "#         zeroline= False,\n",
    "#         gridwidth= 2,\n",
    "#     ),\n",
    "    yaxis=dict(\n",
    "        title= 'Feature Importance',\n",
    "        ticklen= 5,\n",
    "        gridwidth= 2\n",
    "    ),\n",
    "    showlegend= False\n",
    ")\n",
    "fig = go.Figure(data=data, layout=layout)\n",
    "py.iplot(fig,filename='scatter2010')\n",
    "\n",
    "# Scatter plot \n",
    "trace = go.Scatter(\n",
    "    y = feature_dataframe['Extra Trees  feature importances'].values,\n",
    "    x = feature_dataframe['features'].values,\n",
    "    mode='markers',\n",
    "    marker=dict(\n",
    "        sizemode = 'diameter',\n",
    "        sizeref = 1,\n",
    "        size = 25,\n",
    "#       size= feature_dataframe['AdaBoost feature importances'].values,\n",
    "        #color = np.random.randn(500), #set color equal to a variable\n",
    "        color = feature_dataframe['Extra Trees  feature importances'].values,\n",
    "        colorscale='Portland',\n",
    "        showscale=True\n",
    "    ),\n",
    "    text = feature_dataframe['features'].values\n",
    ")\n",
    "data = [trace]\n",
    "\n",
    "layout= go.Layout(\n",
    "    autosize= True,\n",
    "    title= 'Extra Trees Feature Importance',\n",
    "    hovermode= 'closest',\n",
    "#     xaxis= dict(\n",
    "#         title= 'Pop',\n",
    "#         ticklen= 5,\n",
    "#         zeroline= False,\n",
    "#         gridwidth= 2,\n",
    "#     ),\n",
    "    yaxis=dict(\n",
    "        title= 'Feature Importance',\n",
    "        ticklen= 5,\n",
    "        gridwidth= 2\n",
    "    ),\n",
    "    showlegend= False\n",
    ")\n",
    "fig = go.Figure(data=data, layout=layout)\n",
    "py.iplot(fig,filename='scatter2010')\n",
    "\n",
    "# Scatter plot \n",
    "trace = go.Scatter(\n",
    "    y = feature_dataframe['AdaBoost feature importances'].values,\n",
    "    x = feature_dataframe['features'].values,\n",
    "    mode='markers',\n",
    "    marker=dict(\n",
    "        sizemode = 'diameter',\n",
    "        sizeref = 1,\n",
    "        size = 25,\n",
    "#       size= feature_dataframe['AdaBoost feature importances'].values,\n",
    "        #color = np.random.randn(500), #set color equal to a variable\n",
    "        color = feature_dataframe['AdaBoost feature importances'].values,\n",
    "        colorscale='Portland',\n",
    "        showscale=True\n",
    "    ),\n",
    "    text = feature_dataframe['features'].values\n",
    ")\n",
    "data = [trace]\n",
    "\n",
    "layout= go.Layout(\n",
    "    autosize= True,\n",
    "    title= 'AdaBoost Feature Importance',\n",
    "    hovermode= 'closest',\n",
    "#     xaxis= dict(\n",
    "#         title= 'Pop',\n",
    "#         ticklen= 5,\n",
    "#         zeroline= False,\n",
    "#         gridwidth= 2,\n",
    "#     ),\n",
    "    yaxis=dict(\n",
    "        title= 'Feature Importance',\n",
    "        ticklen= 5,\n",
    "        gridwidth= 2\n",
    "    ),\n",
    "    showlegend= False\n",
    ")\n",
    "fig = go.Figure(data=data, layout=layout)\n",
    "py.iplot(fig,filename='scatter2010')\n",
    "\n",
    "# Scatter plot \n",
    "trace = go.Scatter(\n",
    "    y = feature_dataframe['Gradient Boost feature importances'].values,\n",
    "    x = feature_dataframe['features'].values,\n",
    "    mode='markers',\n",
    "    marker=dict(\n",
    "        sizemode = 'diameter',\n",
    "        sizeref = 1,\n",
    "        size = 25,\n",
    "#       size= feature_dataframe['AdaBoost feature importances'].values,\n",
    "        #color = np.random.randn(500), #set color equal to a variable\n",
    "        color = feature_dataframe['Gradient Boost feature importances'].values,\n",
    "        colorscale='Portland',\n",
    "        showscale=True\n",
    "    ),\n",
    "    text = feature_dataframe['features'].values\n",
    ")\n",
    "data = [trace]\n",
    "\n",
    "layout= go.Layout(\n",
    "    autosize= True,\n",
    "    title= 'Gradient Boosting Feature Importance',\n",
    "    hovermode= 'closest',\n",
    "#     xaxis= dict(\n",
    "#         title= 'Pop',\n",
    "#         ticklen= 5,\n",
    "#         zeroline= False,\n",
    "#         gridwidth= 2,\n",
    "#     ),\n",
    "    yaxis=dict(\n",
    "        title= 'Feature Importance',\n",
    "        ticklen= 5,\n",
    "        gridwidth= 2\n",
    "    ),\n",
    "    showlegend= False\n",
    ")\n",
    "fig = go.Figure(data=data, layout=layout)\n",
    "py.iplot(fig,filename='scatter2010')"
   ]
  },
  {
   "cell_type": "code",
   "execution_count": 106,
   "metadata": {
    "collapsed": false
   },
   "outputs": [
    {
     "data": {
      "text/html": [
       "<div>\n",
       "<table border=\"1\" class=\"dataframe\">\n",
       "  <thead>\n",
       "    <tr style=\"text-align: right;\">\n",
       "      <th></th>\n",
       "      <th>AdaBoost feature importances</th>\n",
       "      <th>Extra Trees  feature importances</th>\n",
       "      <th>Gradient Boost feature importances</th>\n",
       "      <th>Random Forest feature importances</th>\n",
       "      <th>features</th>\n",
       "      <th>mean</th>\n",
       "    </tr>\n",
       "  </thead>\n",
       "  <tbody>\n",
       "    <tr>\n",
       "      <th>0</th>\n",
       "      <td>0.004</td>\n",
       "      <td>0.044939</td>\n",
       "      <td>0.014964</td>\n",
       "      <td>0.058688</td>\n",
       "      <td>Pclass</td>\n",
       "      <td>0.030648</td>\n",
       "    </tr>\n",
       "    <tr>\n",
       "      <th>1</th>\n",
       "      <td>0.000</td>\n",
       "      <td>0.164562</td>\n",
       "      <td>0.008991</td>\n",
       "      <td>0.150114</td>\n",
       "      <td>Sex</td>\n",
       "      <td>0.080917</td>\n",
       "    </tr>\n",
       "    <tr>\n",
       "      <th>2</th>\n",
       "      <td>0.232</td>\n",
       "      <td>0.016651</td>\n",
       "      <td>0.385456</td>\n",
       "      <td>0.058818</td>\n",
       "      <td>Age</td>\n",
       "      <td>0.173231</td>\n",
       "    </tr>\n",
       "  </tbody>\n",
       "</table>\n",
       "</div>"
      ],
      "text/plain": [
       "   AdaBoost feature importances  Extra Trees  feature importances  \\\n",
       "0                         0.004                          0.044939   \n",
       "1                         0.000                          0.164562   \n",
       "2                         0.232                          0.016651   \n",
       "\n",
       "   Gradient Boost feature importances  Random Forest feature importances  \\\n",
       "0                            0.014964                           0.058688   \n",
       "1                            0.008991                           0.150114   \n",
       "2                            0.385456                           0.058818   \n",
       "\n",
       "  features      mean  \n",
       "0   Pclass  0.030648  \n",
       "1      Sex  0.080917  \n",
       "2      Age  0.173231  "
      ]
     },
     "execution_count": 106,
     "metadata": {},
     "output_type": "execute_result"
    }
   ],
   "source": [
    "# Create the new column containing the average of values\n",
    "\n",
    "feature_dataframe['mean'] = feature_dataframe.mean(axis= 1) # axis = 1 computes the mean row-wise\n",
    "feature_dataframe.head(3)"
   ]
  },
  {
   "cell_type": "code",
   "execution_count": 107,
   "metadata": {
    "collapsed": false
   },
   "outputs": [
    {
     "data": {
      "application/vnd.plotly.v1+json": {
       "data": [
        {
         "marker": {
          "color": [
           0.03064784080195633,
           0.08091667097506401,
           0.1732312080746473,
           0.015141345065211385,
           0.01210563654582953,
           0.22358537251799182,
           0.0024560601177122067,
           0.025358287130240437,
           0.006307448987932825,
           0.013801036579944134,
           0.016966426750815652,
           0.009581922767703699,
           0.017035052839795336,
           0.08895346902231611,
           0.019471602001356433,
           0.0065178769009459885,
           0.0010143897033207758,
           0.007743873717573098,
           0.006525441865325282,
           0.06188273024544271,
           0.0019130612801472775,
           0.002169981004972981,
           0.004910619597272482,
           0.0023618414657250904,
           0.006031594670800959,
           0.0009236255626831301,
           0.0014795144302164735,
           0.015641026946770234,
           0.0005,
           0.04490265882606381,
           0.016446883890952457,
           0.029446330809540084,
           0.008357675071797046,
           0.027279489336149987,
           0.010907749983042865,
           0.00748425451274003
          ],
          "colorscale": "Portland",
          "reversescale": false,
          "showscale": true
         },
         "opacity": 0.6,
         "type": "bar",
         "width": 0.5,
         "x": [
          "Pclass",
          "Sex",
          "Age",
          "SibSp",
          "Parch",
          "Fare",
          "Mother",
          "Family",
          "Singleton",
          "Family_Size_Big",
          "Family_Size_Small",
          "NamePrefix_Master",
          "NamePrefix_Miss",
          "NamePrefix_Mr",
          "NamePrefix_Mrs",
          "NamePrefix_Officer",
          "NamePrefix_Royalty",
          "Share_Ticket",
          "Share_ticket_survived",
          "Cabin_Numer",
          "Cabin_A",
          "Cabin_B",
          "Cabin_C",
          "Cabin_D",
          "Cabin_E",
          "Cabin_F",
          "Cabin_G",
          "Cabin_M",
          "Cabin_T",
          "Sex_Pclass_Female_High",
          "Sex_Pclass_Female_Low",
          "Sex_Pclass_Female_Mid",
          "Sex_Pclass_Male_High",
          "Sex_Pclass_Male_Low",
          "Sex_Pclass_Male_Mid",
          "Child"
         ],
         "y": [
          0.03064784080195633,
          0.08091667097506401,
          0.1732312080746473,
          0.015141345065211385,
          0.01210563654582953,
          0.22358537251799182,
          0.0024560601177122067,
          0.025358287130240437,
          0.006307448987932825,
          0.013801036579944134,
          0.016966426750815652,
          0.009581922767703699,
          0.017035052839795336,
          0.08895346902231611,
          0.019471602001356433,
          0.0065178769009459885,
          0.0010143897033207758,
          0.007743873717573098,
          0.006525441865325282,
          0.06188273024544271,
          0.0019130612801472775,
          0.002169981004972981,
          0.004910619597272482,
          0.0023618414657250904,
          0.006031594670800959,
          0.0009236255626831301,
          0.0014795144302164735,
          0.015641026946770234,
          0.0005,
          0.04490265882606381,
          0.016446883890952457,
          0.029446330809540084,
          0.008357675071797046,
          0.027279489336149987,
          0.010907749983042865,
          0.00748425451274003
         ]
        }
       ],
       "layout": {
        "autosize": true,
        "hovermode": "closest",
        "showlegend": false,
        "title": "Barplots of Mean Feature Importance",
        "yaxis": {
         "gridwidth": 2,
         "ticklen": 5,
         "title": "Feature Importance"
        }
       }
      },
      "text/html": [
       "<div id=\"6e22e017-3d49-4f28-aed9-b6194cc6affc\" style=\"height: 525px; width: 100%;\" class=\"plotly-graph-div\"></div><script type=\"text/javascript\">require([\"plotly\"], function(Plotly) { window.PLOTLYENV=window.PLOTLYENV || {};window.PLOTLYENV.BASE_URL=\"https://plot.ly\";Plotly.newPlot(\"6e22e017-3d49-4f28-aed9-b6194cc6affc\", [{\"opacity\": 0.6, \"width\": 0.5, \"y\": [0.03064784080195633, 0.08091667097506401, 0.1732312080746473, 0.015141345065211385, 0.01210563654582953, 0.22358537251799182, 0.0024560601177122067, 0.025358287130240437, 0.006307448987932825, 0.013801036579944134, 0.016966426750815652, 0.009581922767703699, 0.017035052839795336, 0.08895346902231611, 0.019471602001356433, 0.0065178769009459885, 0.0010143897033207758, 0.007743873717573098, 0.006525441865325282, 0.06188273024544271, 0.0019130612801472775, 0.002169981004972981, 0.004910619597272482, 0.0023618414657250904, 0.006031594670800959, 0.0009236255626831301, 0.0014795144302164735, 0.015641026946770234, 0.0005, 0.04490265882606381, 0.016446883890952457, 0.029446330809540084, 0.008357675071797046, 0.027279489336149987, 0.010907749983042865, 0.00748425451274003], \"x\": [\"Pclass\", \"Sex\", \"Age\", \"SibSp\", \"Parch\", \"Fare\", \"Mother\", \"Family\", \"Singleton\", \"Family_Size_Big\", \"Family_Size_Small\", \"NamePrefix_Master\", \"NamePrefix_Miss\", \"NamePrefix_Mr\", \"NamePrefix_Mrs\", \"NamePrefix_Officer\", \"NamePrefix_Royalty\", \"Share_Ticket\", \"Share_ticket_survived\", \"Cabin_Numer\", \"Cabin_A\", \"Cabin_B\", \"Cabin_C\", \"Cabin_D\", \"Cabin_E\", \"Cabin_F\", \"Cabin_G\", \"Cabin_M\", \"Cabin_T\", \"Sex_Pclass_Female_High\", \"Sex_Pclass_Female_Low\", \"Sex_Pclass_Female_Mid\", \"Sex_Pclass_Male_High\", \"Sex_Pclass_Male_Low\", \"Sex_Pclass_Male_Mid\", \"Child\"], \"type\": \"bar\", \"marker\": {\"reversescale\": false, \"color\": [0.03064784080195633, 0.08091667097506401, 0.1732312080746473, 0.015141345065211385, 0.01210563654582953, 0.22358537251799182, 0.0024560601177122067, 0.025358287130240437, 0.006307448987932825, 0.013801036579944134, 0.016966426750815652, 0.009581922767703699, 0.017035052839795336, 0.08895346902231611, 0.019471602001356433, 0.0065178769009459885, 0.0010143897033207758, 0.007743873717573098, 0.006525441865325282, 0.06188273024544271, 0.0019130612801472775, 0.002169981004972981, 0.004910619597272482, 0.0023618414657250904, 0.006031594670800959, 0.0009236255626831301, 0.0014795144302164735, 0.015641026946770234, 0.0005, 0.04490265882606381, 0.016446883890952457, 0.029446330809540084, 0.008357675071797046, 0.027279489336149987, 0.010907749983042865, 0.00748425451274003], \"showscale\": true, \"colorscale\": \"Portland\"}}], {\"autosize\": true, \"title\": \"Barplots of Mean Feature Importance\", \"showlegend\": false, \"hovermode\": \"closest\", \"yaxis\": {\"ticklen\": 5, \"gridwidth\": 2, \"title\": \"Feature Importance\"}}, {\"linkText\": \"Export to plot.ly\", \"showLink\": true})});</script>"
      ],
      "text/vnd.plotly.v1+html": [
       "<div id=\"6e22e017-3d49-4f28-aed9-b6194cc6affc\" style=\"height: 525px; width: 100%;\" class=\"plotly-graph-div\"></div><script type=\"text/javascript\">require([\"plotly\"], function(Plotly) { window.PLOTLYENV=window.PLOTLYENV || {};window.PLOTLYENV.BASE_URL=\"https://plot.ly\";Plotly.newPlot(\"6e22e017-3d49-4f28-aed9-b6194cc6affc\", [{\"opacity\": 0.6, \"width\": 0.5, \"y\": [0.03064784080195633, 0.08091667097506401, 0.1732312080746473, 0.015141345065211385, 0.01210563654582953, 0.22358537251799182, 0.0024560601177122067, 0.025358287130240437, 0.006307448987932825, 0.013801036579944134, 0.016966426750815652, 0.009581922767703699, 0.017035052839795336, 0.08895346902231611, 0.019471602001356433, 0.0065178769009459885, 0.0010143897033207758, 0.007743873717573098, 0.006525441865325282, 0.06188273024544271, 0.0019130612801472775, 0.002169981004972981, 0.004910619597272482, 0.0023618414657250904, 0.006031594670800959, 0.0009236255626831301, 0.0014795144302164735, 0.015641026946770234, 0.0005, 0.04490265882606381, 0.016446883890952457, 0.029446330809540084, 0.008357675071797046, 0.027279489336149987, 0.010907749983042865, 0.00748425451274003], \"x\": [\"Pclass\", \"Sex\", \"Age\", \"SibSp\", \"Parch\", \"Fare\", \"Mother\", \"Family\", \"Singleton\", \"Family_Size_Big\", \"Family_Size_Small\", \"NamePrefix_Master\", \"NamePrefix_Miss\", \"NamePrefix_Mr\", \"NamePrefix_Mrs\", \"NamePrefix_Officer\", \"NamePrefix_Royalty\", \"Share_Ticket\", \"Share_ticket_survived\", \"Cabin_Numer\", \"Cabin_A\", \"Cabin_B\", \"Cabin_C\", \"Cabin_D\", \"Cabin_E\", \"Cabin_F\", \"Cabin_G\", \"Cabin_M\", \"Cabin_T\", \"Sex_Pclass_Female_High\", \"Sex_Pclass_Female_Low\", \"Sex_Pclass_Female_Mid\", \"Sex_Pclass_Male_High\", \"Sex_Pclass_Male_Low\", \"Sex_Pclass_Male_Mid\", \"Child\"], \"type\": \"bar\", \"marker\": {\"reversescale\": false, \"color\": [0.03064784080195633, 0.08091667097506401, 0.1732312080746473, 0.015141345065211385, 0.01210563654582953, 0.22358537251799182, 0.0024560601177122067, 0.025358287130240437, 0.006307448987932825, 0.013801036579944134, 0.016966426750815652, 0.009581922767703699, 0.017035052839795336, 0.08895346902231611, 0.019471602001356433, 0.0065178769009459885, 0.0010143897033207758, 0.007743873717573098, 0.006525441865325282, 0.06188273024544271, 0.0019130612801472775, 0.002169981004972981, 0.004910619597272482, 0.0023618414657250904, 0.006031594670800959, 0.0009236255626831301, 0.0014795144302164735, 0.015641026946770234, 0.0005, 0.04490265882606381, 0.016446883890952457, 0.029446330809540084, 0.008357675071797046, 0.027279489336149987, 0.010907749983042865, 0.00748425451274003], \"showscale\": true, \"colorscale\": \"Portland\"}}], {\"autosize\": true, \"title\": \"Barplots of Mean Feature Importance\", \"showlegend\": false, \"hovermode\": \"closest\", \"yaxis\": {\"ticklen\": 5, \"gridwidth\": 2, \"title\": \"Feature Importance\"}}, {\"linkText\": \"Export to plot.ly\", \"showLink\": true})});</script>"
      ]
     },
     "metadata": {},
     "output_type": "display_data"
    }
   ],
   "source": [
    "y = feature_dataframe['mean'].values\n",
    "x = feature_dataframe['features'].values\n",
    "data = [go.Bar(\n",
    "            x= x,\n",
    "             y= y,\n",
    "            width = 0.5,\n",
    "            marker=dict(\n",
    "               color = feature_dataframe['mean'].values,\n",
    "            colorscale='Portland',\n",
    "            showscale=True,\n",
    "            reversescale = False\n",
    "            ),\n",
    "            opacity=0.6\n",
    "        )]\n",
    "\n",
    "layout= go.Layout(\n",
    "    autosize= True,\n",
    "    title= 'Barplots of Mean Feature Importance',\n",
    "    hovermode= 'closest',\n",
    "#     xaxis= dict(\n",
    "#         title= 'Pop',\n",
    "#         ticklen= 5,\n",
    "#         zeroline= False,\n",
    "#         gridwidth= 2,\n",
    "#     ),\n",
    "    yaxis=dict(\n",
    "        title= 'Feature Importance',\n",
    "        ticklen= 5,\n",
    "        gridwidth= 2\n",
    "    ),\n",
    "    showlegend= False\n",
    ")\n",
    "fig = go.Figure(data=data, layout=layout)\n",
    "py.iplot(fig, filename='bar-direct-labels')"
   ]
  },
  {
   "cell_type": "code",
   "execution_count": 159,
   "metadata": {
    "collapsed": false
   },
   "outputs": [
    {
     "data": {
      "text/html": [
       "<div>\n",
       "<table border=\"1\" class=\"dataframe\">\n",
       "  <thead>\n",
       "    <tr style=\"text-align: right;\">\n",
       "      <th></th>\n",
       "      <th>AdaBoost</th>\n",
       "      <th>ExtraTrees</th>\n",
       "      <th>GradientBoost</th>\n",
       "      <th>RandomForest</th>\n",
       "    </tr>\n",
       "  </thead>\n",
       "  <tbody>\n",
       "    <tr>\n",
       "      <th>0</th>\n",
       "      <td>0.0</td>\n",
       "      <td>0.0</td>\n",
       "      <td>0.0</td>\n",
       "      <td>0.0</td>\n",
       "    </tr>\n",
       "    <tr>\n",
       "      <th>1</th>\n",
       "      <td>1.0</td>\n",
       "      <td>1.0</td>\n",
       "      <td>1.0</td>\n",
       "      <td>1.0</td>\n",
       "    </tr>\n",
       "    <tr>\n",
       "      <th>2</th>\n",
       "      <td>1.0</td>\n",
       "      <td>1.0</td>\n",
       "      <td>0.0</td>\n",
       "      <td>0.0</td>\n",
       "    </tr>\n",
       "    <tr>\n",
       "      <th>3</th>\n",
       "      <td>1.0</td>\n",
       "      <td>1.0</td>\n",
       "      <td>1.0</td>\n",
       "      <td>1.0</td>\n",
       "    </tr>\n",
       "    <tr>\n",
       "      <th>4</th>\n",
       "      <td>0.0</td>\n",
       "      <td>0.0</td>\n",
       "      <td>0.0</td>\n",
       "      <td>0.0</td>\n",
       "    </tr>\n",
       "  </tbody>\n",
       "</table>\n",
       "</div>"
      ],
      "text/plain": [
       "   AdaBoost  ExtraTrees  GradientBoost  RandomForest\n",
       "0       0.0         0.0            0.0           0.0\n",
       "1       1.0         1.0            1.0           1.0\n",
       "2       1.0         1.0            0.0           0.0\n",
       "3       1.0         1.0            1.0           1.0\n",
       "4       0.0         0.0            0.0           0.0"
      ]
     },
     "execution_count": 159,
     "metadata": {},
     "output_type": "execute_result"
    }
   ],
   "source": [
    "base_predictions_train = pd.DataFrame( {'RandomForest': rf_oof_train.ravel(),\n",
    "     'ExtraTrees': et_oof_train.ravel(),\n",
    "     'AdaBoost': ada_oof_train.ravel(),\n",
    "      'GradientBoost': gb_oof_train.ravel()\n",
    "    })\n",
    "base_predictions_train.head()"
   ]
  },
  {
   "cell_type": "code",
   "execution_count": 160,
   "metadata": {
    "collapsed": false
   },
   "outputs": [
    {
     "data": {
      "application/vnd.plotly.v1+json": {
       "data": [
        {
         "colorscale": "Portland",
         "reversescale": true,
         "showscale": true,
         "type": "heatmap",
         "x": [
          "AdaBoost",
          "ExtraTrees",
          "GradientBoost",
          "RandomForest"
         ],
         "y": [
          "AdaBoost",
          "ExtraTrees",
          "GradientBoost",
          "RandomForest"
         ],
         "z": [
          [
           1,
           0.7511740014280984,
           0.7485104240282885,
           0.7580562758366192
          ],
          [
           0.7511740014280984,
           1,
           0.7386192523655641,
           0.8566034610005292
          ],
          [
           0.7485104240282885,
           0.7386192523655641,
           1,
           0.7779318430199131
          ],
          [
           0.7580562758366192,
           0.8566034610005292,
           0.7779318430199131,
           1
          ]
         ]
        }
       ],
       "layout": {}
      },
      "text/html": [
       "<div id=\"1e424dca-87b5-4852-8c5f-b4745f9f500f\" style=\"height: 525px; width: 100%;\" class=\"plotly-graph-div\"></div><script type=\"text/javascript\">require([\"plotly\"], function(Plotly) { window.PLOTLYENV=window.PLOTLYENV || {};window.PLOTLYENV.BASE_URL=\"https://plot.ly\";Plotly.newPlot(\"1e424dca-87b5-4852-8c5f-b4745f9f500f\", [{\"colorscale\": \"Portland\", \"reversescale\": true, \"showscale\": true, \"y\": [\"AdaBoost\", \"ExtraTrees\", \"GradientBoost\", \"RandomForest\"], \"x\": [\"AdaBoost\", \"ExtraTrees\", \"GradientBoost\", \"RandomForest\"], \"z\": [[1.0, 0.7511740014280984, 0.7485104240282885, 0.7580562758366192], [0.7511740014280984, 1.0, 0.7386192523655641, 0.8566034610005292], [0.7485104240282885, 0.7386192523655641, 1.0, 0.7779318430199131], [0.7580562758366192, 0.8566034610005292, 0.7779318430199131, 1.0]], \"type\": \"heatmap\"}], {}, {\"linkText\": \"Export to plot.ly\", \"showLink\": true})});</script>"
      ],
      "text/vnd.plotly.v1+html": [
       "<div id=\"1e424dca-87b5-4852-8c5f-b4745f9f500f\" style=\"height: 525px; width: 100%;\" class=\"plotly-graph-div\"></div><script type=\"text/javascript\">require([\"plotly\"], function(Plotly) { window.PLOTLYENV=window.PLOTLYENV || {};window.PLOTLYENV.BASE_URL=\"https://plot.ly\";Plotly.newPlot(\"1e424dca-87b5-4852-8c5f-b4745f9f500f\", [{\"colorscale\": \"Portland\", \"reversescale\": true, \"showscale\": true, \"y\": [\"AdaBoost\", \"ExtraTrees\", \"GradientBoost\", \"RandomForest\"], \"x\": [\"AdaBoost\", \"ExtraTrees\", \"GradientBoost\", \"RandomForest\"], \"z\": [[1.0, 0.7511740014280984, 0.7485104240282885, 0.7580562758366192], [0.7511740014280984, 1.0, 0.7386192523655641, 0.8566034610005292], [0.7485104240282885, 0.7386192523655641, 1.0, 0.7779318430199131], [0.7580562758366192, 0.8566034610005292, 0.7779318430199131, 1.0]], \"type\": \"heatmap\"}], {}, {\"linkText\": \"Export to plot.ly\", \"showLink\": true})});</script>"
      ]
     },
     "metadata": {},
     "output_type": "display_data"
    }
   ],
   "source": [
    "data = [\n",
    "    go.Heatmap(\n",
    "        z= base_predictions_train.astype(float).corr().values ,\n",
    "        x=base_predictions_train.columns.values,\n",
    "        y= base_predictions_train.columns.values,\n",
    "          colorscale='Portland',\n",
    "            showscale=True,\n",
    "            reversescale = True\n",
    "    )\n",
    "]\n",
    "py.iplot(data, filename='labelled-heatmap')"
   ]
  },
  {
   "cell_type": "code",
   "execution_count": 161,
   "metadata": {
    "collapsed": false
   },
   "outputs": [],
   "source": [
    "x_train = np.concatenate(( et_oof_train, rf_oof_train, ada_oof_train, gb_oof_train, svc_oof_train), axis=1)\n",
    "x_test = np.concatenate(( et_oof_test, rf_oof_test, ada_oof_test, gb_oof_test, svc_oof_test), axis=1)"
   ]
  },
  {
   "cell_type": "code",
   "execution_count": 162,
   "metadata": {
    "collapsed": false
   },
   "outputs": [],
   "source": [
    "import os\n",
    "mingw_path = 'C:\\Program Files\\mingw-w64\\x86_64-6.3.0-posix-seh-rt_v5-rev1\\mingw64\\bin'\n",
    "os.environ['PATH'] = mingw_path + ';' + os.environ['PATH']"
   ]
  },
  {
   "cell_type": "code",
   "execution_count": 163,
   "metadata": {
    "collapsed": false
   },
   "outputs": [],
   "source": [
    "import xgboost as xgb"
   ]
  },
  {
   "cell_type": "code",
   "execution_count": 164,
   "metadata": {
    "collapsed": false
   },
   "outputs": [
    {
     "name": "stderr",
     "output_type": "stream",
     "text": [
      "C:\\Anaconda2\\lib\\site-packages\\xgboost-0.6-py2.7.egg\\xgboost\\sklearn.py:210: DeprecationWarning:\n",
      "\n",
      "The nthread parameter is deprecated as of version .6.Please use n_jobs instead.nthread is deprecated.\n",
      "\n"
     ]
    }
   ],
   "source": [
    "gbm = xgb.XGBClassifier(\n",
    "    #learning_rate = 0.02,\n",
    " n_estimators= 2000,\n",
    " max_depth= 4,\n",
    " min_child_weight= 2,\n",
    " #gamma=1,\n",
    " gamma=0.9,                        \n",
    " subsample=0.8,\n",
    " colsample_bytree=0.8,\n",
    " objective= 'binary:logistic',\n",
    " nthread= -1,\n",
    " scale_pos_weight=1).fit(x_train, y_train)\n",
    "predictions = gbm.predict(x_test)"
   ]
  },
  {
   "cell_type": "code",
   "execution_count": 165,
   "metadata": {
    "collapsed": false
   },
   "outputs": [],
   "source": [
    "PassengerId = pd.read_csv(u'E:\\\\资料书籍\\\\天池\\\\泰坦尼克号\\\\test.csv', sep=',').PassengerId"
   ]
  },
  {
   "cell_type": "code",
   "execution_count": 166,
   "metadata": {
    "collapsed": false
   },
   "outputs": [],
   "source": [
    "DataFrame({ 'PassengerId': PassengerId, 'Survived': predictions }).to_csv(u'E:\\\\资料书籍\\\\天池\\\\泰坦尼克号\\\\2017-8-9-20-25.csv', index=False)"
   ]
  },
  {
   "cell_type": "code",
   "execution_count": 168,
   "metadata": {
    "collapsed": false
   },
   "outputs": [
    {
     "data": {
      "text/plain": [
       "0.83164671657823797"
      ]
     },
     "execution_count": 168,
     "metadata": {},
     "output_type": "execute_result"
    }
   ],
   "source": [
    "compute_score(gbm, train_reduced, labels)"
   ]
  },
  {
   "cell_type": "code",
   "execution_count": null,
   "metadata": {
    "collapsed": true
   },
   "outputs": [],
   "source": []
  },
  {
   "cell_type": "code",
   "execution_count": 117,
   "metadata": {
    "collapsed": true
   },
   "outputs": [],
   "source": [
    "def compute_score(clf, X, y, scoring='accuracy'):\n",
    "    xval = cross_val_score(clf, X, y, cv = 5, scoring=scoring, n_jobs =-1)\n",
    "    return np.mean(xval)"
   ]
  },
  {
   "cell_type": "markdown",
   "metadata": {
    "collapsed": false
   },
   "source": [
    "# 总结\n",
    "\n",
    "这次第一次接触kaggle比赛，还是蛮多收获的，从一开始画图分析，利用随机森林撸出了第一个模型，传上去得分有0.76，当时觉得还不错。然后就开始坑了。。。试过了创建不同的特征，也在网上借鉴了很多经验，但是改善程度最好就到0.78...\n",
    "\n",
    "发现对Fare做离散化效果不是很好，不知道为什么。\n",
    "\n",
    "最后减少了特征然后上了Stacking集成了5个模型，最后kaggle得分是0.803左右，后续有继续折腾但是改善不大。不过泰坦尼克作为一个入手项目还是很赞的。\n",
    "\n",
    "最后上个图纪念一下哈哈哈\n",
    "\n",
    "![](http://o6gcipdzi.bkt.clouddn.com/titan.png)"
   ]
  },
  {
   "cell_type": "code",
   "execution_count": null,
   "metadata": {
    "collapsed": true
   },
   "outputs": [],
   "source": []
  }
 ],
 "metadata": {
  "kernelspec": {
   "display_name": "Python [Root]",
   "language": "python",
   "name": "Python [Root]"
  },
  "language_info": {
   "codemirror_mode": {
    "name": "ipython",
    "version": 2
   },
   "file_extension": ".py",
   "mimetype": "text/x-python",
   "name": "python",
   "nbconvert_exporter": "python",
   "pygments_lexer": "ipython2",
   "version": "2.7.12"
  }
 },
 "nbformat": 4,
 "nbformat_minor": 0
}
